{
 "cells": [
  {
   "cell_type": "code",
   "execution_count": 1,
   "id": "31898b6d",
   "metadata": {},
   "outputs": [],
   "source": [
    "import sidmhalo\n",
    "from sidmhalo.classes import load_profile\n",
    "import os\n",
    "import matplotlib.pyplot as plt\n",
    "\n",
    "import numpy as np"
   ]
  },
  {
   "cell_type": "markdown",
   "id": "625b9d84",
   "metadata": {},
   "source": [
    "# test the saving and loading functionality "
   ]
  },
  {
   "cell_type": "markdown",
   "id": "468b05c1",
   "metadata": {},
   "source": [
    "## basic test "
   ]
  },
  {
   "cell_type": "code",
   "execution_count": 2,
   "id": "6e10d426",
   "metadata": {},
   "outputs": [],
   "source": [
    "rm = 30 # radius of isothermal core, kpc\n",
    "M200 = 1e12 # virial mass, Msun\n",
    "R200 = 200 # virial radius, kpc\n",
    "c = 10 # concentration, dimensionless\n",
    "q_sph = 1 # spherical axis ratio, dimensionless\n",
    "Phi_b = None # baryon potential, Msun/kpc^2\n",
    "\n",
    "profile = sidmhalo.gen.squashed(rm, M200, c, q0=q_sph, Phi_b=Phi_b)"
   ]
  },
  {
   "cell_type": "code",
   "execution_count": 3,
   "id": "7d54f8a6",
   "metadata": {},
   "outputs": [
    {
     "name": "stdout",
     "output_type": "stream",
     "text": [
      "[DEBUG] Saving named function: Phi_b_out, signature: (r)\n",
      "[DEBUG] Saving named function: no_baryons, signature: (r)\n",
      "[DEBUG] Saving named function: q_eff, signature: (r)\n"
     ]
    }
   ],
   "source": [
    "filename = 'data/test_profile.npz'\n",
    "\n",
    "profile.save(filename)"
   ]
  },
  {
   "cell_type": "code",
   "execution_count": 4,
   "id": "d0809644",
   "metadata": {},
   "outputs": [
    {
     "name": "stdout",
     "output_type": "stream",
     "text": [
      "[DEBUG] Loaded named function: no_baryons, signature: (r)\n"
     ]
    }
   ],
   "source": [
    "# loading the profile\n",
    "lprofile = load_profile(filename)"
   ]
  },
  {
   "cell_type": "code",
   "execution_count": 8,
   "id": "85531a86",
   "metadata": {},
   "outputs": [
    {
     "data": {
      "text/plain": [
       "36731.99447813377"
      ]
     },
     "execution_count": 8,
     "metadata": {},
     "output_type": "execute_result"
    }
   ],
   "source": [
    "lprofile.rho_sph_avg(100)"
   ]
  },
  {
   "cell_type": "code",
   "execution_count": 7,
   "id": "1324cad3",
   "metadata": {},
   "outputs": [
    {
     "data": {
      "text/plain": [
       "sidmhalo.classes.profile"
      ]
     },
     "execution_count": 7,
     "metadata": {},
     "output_type": "execute_result"
    }
   ],
   "source": [
    "type(lprofile)"
   ]
  },
  {
   "cell_type": "code",
   "execution_count": 10,
   "id": "a0c95258",
   "metadata": {},
   "outputs": [
    {
     "data": {
      "text/plain": [
       "np.float64(30.0)"
      ]
     },
     "execution_count": 10,
     "metadata": {},
     "output_type": "execute_result"
    }
   ],
   "source": [
    "lprofile.r1"
   ]
  },
  {
   "cell_type": "markdown",
   "id": "9d7c072c",
   "metadata": {},
   "source": [
    "## test with baryon function "
   ]
  },
  {
   "cell_type": "code",
   "execution_count": 2,
   "id": "4b26db7f",
   "metadata": {},
   "outputs": [],
   "source": [
    "from sidmhalo.definitions import GN"
   ]
  },
  {
   "cell_type": "code",
   "execution_count": 3,
   "id": "9622d2bb",
   "metadata": {},
   "outputs": [
    {
     "name": "stdout",
     "output_type": "stream",
     "text": [
      "relaxation (in /home/asorlik/Desktop/github-projects/nonspherical-sidm-jeans-model/src/sidmhalo/spherical.py) took 1.640 seconds.\n",
      "Profile generated successfully\n"
     ]
    }
   ],
   "source": [
    "rm = 30 # radius of isothermal core, kpc\n",
    "M200 = 1e12 # virial mass, Msun\n",
    "R200 = 200 # virial radius, kpc\n",
    "c = 10 # concentration, dimensionless\n",
    "q_sph = 1 # spherical axis ratio, dimensionless\n",
    "\n",
    "# def Phi_b(r, th):\n",
    "#     Md = 6.4e10\n",
    "#     a = 3.5\n",
    "#     b = 0.53\n",
    "#     return -GN*Md/np.sqrt(r**2 * np.sin(th)**2 + (a + np.sqrt(b**2 + r**2 * np.cos(th)**2))**2)\n",
    "\n",
    "profile = sidmhalo.gen.squashed(rm, M200, c, q0=q_sph, Phi_b=None)\n",
    "\n",
    "if profile:\n",
    "    print(\"Profile generated successfully\")"
   ]
  },
  {
   "cell_type": "code",
   "execution_count": 4,
   "id": "cef25270",
   "metadata": {},
   "outputs": [
    {
     "name": "stdout",
     "output_type": "stream",
     "text": [
      "[Vsq_LM] rho_LM(r_eval[:3]): [array(42598229.5899296), array(36769488.01108311), array(27573006.13354478)]\n"
     ]
    },
    {
     "name": "stderr",
     "output_type": "stream",
     "text": [
      "/home/asorlik/Desktop/github-projects/nonspherical-sidm-jeans-model/src/sidmhalo/classes.py:379: RuntimeWarning: divide by zero encountered in log\n",
      "  y = np.log(np.abs(rho_LM_list[sel]))\n"
     ]
    },
    {
     "name": "stdout",
     "output_type": "stream",
     "text": [
      "[Vsq_LM] rho_LM(r_eval[:3]): [array(-4.36827315e-07), array(-3.57494931e-08), array(1.96301824e-07)]\n",
      "[Vsq_LM] WARNING: ODE solver did not return value for r=30.0. Filling with np.nan.\n",
      "[Vsq_LM] rho_LM(r_eval[:3]): [array(-8.77483559e-08), array(-6.2671875e-08), array(-8.21690709e-08)]\n",
      "[Vsq_LM] rho_LM(r_eval[:3]): [array(6.73205643e-08), array(-1.56721919e-07), array(7.4307569e-08)]\n"
     ]
    },
    {
     "ename": "KeyboardInterrupt",
     "evalue": "",
     "output_type": "error",
     "traceback": [
      "\u001b[31m---------------------------------------------------------------------------\u001b[39m",
      "\u001b[31mIntegrationWarning\u001b[39m                        Traceback (most recent call last)",
      "\u001b[36mFile \u001b[39m\u001b[32m~/Desktop/github-projects/nonspherical-sidm-jeans-model/src/sidmhalo/definitions.py:48\u001b[39m, in \u001b[36mintegrate\u001b[39m\u001b[34m(func, xmin, xmax, atol, rtol, args)\u001b[39m\n\u001b[32m     47\u001b[39m \u001b[38;5;28;01mtry\u001b[39;00m:\n\u001b[32m---> \u001b[39m\u001b[32m48\u001b[39m     output = \u001b[43mquad\u001b[49m\u001b[43m(\u001b[49m\n\u001b[32m     49\u001b[39m \u001b[43m        \u001b[49m\u001b[43mfunc\u001b[49m\u001b[43m,\u001b[49m\u001b[43m \u001b[49m\u001b[43mxmin\u001b[49m\u001b[43m,\u001b[49m\u001b[43m \u001b[49m\u001b[43mxmax\u001b[49m\u001b[43m,\u001b[49m\u001b[43m \u001b[49m\u001b[43margs\u001b[49m\u001b[43m=\u001b[49m\u001b[38;5;28;43mtuple\u001b[39;49m\u001b[43m(\u001b[49m\u001b[43margs\u001b[49m\u001b[43m)\u001b[49m\u001b[43m,\u001b[49m\u001b[43m \u001b[49m\u001b[43mlimit\u001b[49m\u001b[43m=\u001b[49m\u001b[32;43m50\u001b[39;49m\u001b[43m,\u001b[49m\u001b[43m \u001b[49m\u001b[43mepsabs\u001b[49m\u001b[43m=\u001b[49m\u001b[43matol\u001b[49m\u001b[43m,\u001b[49m\u001b[43m \u001b[49m\u001b[43mepsrel\u001b[49m\u001b[43m=\u001b[49m\u001b[43mrtol\u001b[49m\n\u001b[32m     50\u001b[39m \u001b[43m    \u001b[49m\u001b[43m)\u001b[49m[\u001b[32m0\u001b[39m]\n\u001b[32m     52\u001b[39m \u001b[38;5;28;01mexcept\u001b[39;00m:\n\u001b[32m     53\u001b[39m \n\u001b[32m     54\u001b[39m     \u001b[38;5;66;03m# print('quad raised an error, using solve_ivp instead (a bit slower).')\u001b[39;00m\n",
      "\u001b[36mFile \u001b[39m\u001b[32m~/Desktop/github-projects/nonspherical-sidm-jeans-model/.jeansenv/lib/python3.13/site-packages/scipy/integrate/_quadpack_py.py:545\u001b[39m, in \u001b[36mquad\u001b[39m\u001b[34m(func, a, b, args, full_output, epsabs, epsrel, limit, points, weight, wvar, wopts, maxp1, limlst, complex_func)\u001b[39m\n\u001b[32m    544\u001b[39m \u001b[38;5;28;01melse\u001b[39;00m:\n\u001b[32m--> \u001b[39m\u001b[32m545\u001b[39m     \u001b[43mwarnings\u001b[49m\u001b[43m.\u001b[49m\u001b[43mwarn\u001b[49m\u001b[43m(\u001b[49m\u001b[43mmsg\u001b[49m\u001b[43m,\u001b[49m\u001b[43m \u001b[49m\u001b[43mIntegrationWarning\u001b[49m\u001b[43m,\u001b[49m\u001b[43m \u001b[49m\u001b[43mstacklevel\u001b[49m\u001b[43m=\u001b[49m\u001b[32;43m2\u001b[39;49m\u001b[43m)\u001b[49m\n\u001b[32m    546\u001b[39m     \u001b[38;5;28;01mreturn\u001b[39;00m retval[:-\u001b[32m1\u001b[39m]\n",
      "\u001b[31mIntegrationWarning\u001b[39m: The occurrence of roundoff error is detected, which prevents \n  the requested tolerance from being achieved.  The error may be \n  underestimated.",
      "\nDuring handling of the above exception, another exception occurred:\n",
      "\u001b[31mKeyboardInterrupt\u001b[39m                         Traceback (most recent call last)",
      "\u001b[36mCell\u001b[39m\u001b[36m \u001b[39m\u001b[32mIn[4]\u001b[39m\u001b[32m, line 2\u001b[39m\n\u001b[32m      1\u001b[39m r = np.linspace(\u001b[32m1\u001b[39m, \u001b[32m30\u001b[39m, \u001b[32m10\u001b[39m) \u001b[38;5;66;03m# kpc\u001b[39;00m\n\u001b[32m----> \u001b[39m\u001b[32m2\u001b[39m test = \u001b[43mprofile\u001b[49m\u001b[43m.\u001b[49m\u001b[43mV\u001b[49m\u001b[43m(\u001b[49m\u001b[43mr\u001b[49m\u001b[43m)\u001b[49m\n",
      "\u001b[36mFile \u001b[39m\u001b[32m~/Desktop/github-projects/nonspherical-sidm-jeans-model/src/sidmhalo/classes.py:523\u001b[39m, in \u001b[36mprofile.V\u001b[39m\u001b[34m(self, r)\u001b[39m\n\u001b[32m    522\u001b[39m \u001b[38;5;28;01mdef\u001b[39;00m\u001b[38;5;250m \u001b[39m\u001b[34mV\u001b[39m(\u001b[38;5;28mself\u001b[39m, r):\n\u001b[32m--> \u001b[39m\u001b[32m523\u001b[39m     \u001b[38;5;28;01mreturn\u001b[39;00m np.sqrt(\u001b[38;5;28;43mself\u001b[39;49m\u001b[43m.\u001b[49m\u001b[43mVsq\u001b[49m\u001b[43m(\u001b[49m\u001b[43mr\u001b[49m\u001b[43m)\u001b[49m)\n",
      "\u001b[36mFile \u001b[39m\u001b[32m~/Desktop/github-projects/nonspherical-sidm-jeans-model/src/sidmhalo/classes.py:520\u001b[39m, in \u001b[36mprofile.Vsq\u001b[39m\u001b[34m(self, r)\u001b[39m\n\u001b[32m    519\u001b[39m \u001b[38;5;28;01mdef\u001b[39;00m\u001b[38;5;250m \u001b[39m\u001b[34mVsq\u001b[39m(\u001b[38;5;28mself\u001b[39m, r):\n\u001b[32m--> \u001b[39m\u001b[32m520\u001b[39m     \u001b[38;5;28;01mreturn\u001b[39;00m \u001b[38;5;28mself\u001b[39m.Vsq_baryon(r) + \u001b[38;5;28;43mself\u001b[39;49m\u001b[43m.\u001b[49m\u001b[43mVsq_dm\u001b[49m\u001b[43m(\u001b[49m\u001b[43mr\u001b[49m\u001b[43m)\u001b[49m\n",
      "\u001b[36mFile \u001b[39m\u001b[32m~/Desktop/github-projects/nonspherical-sidm-jeans-model/src/sidmhalo/classes.py:495\u001b[39m, in \u001b[36mprofile.Vsq_dm\u001b[39m\u001b[34m(self, r, Lmax, **kwargs)\u001b[39m\n\u001b[32m    490\u001b[39m Vsq_tot = np.zeros_like(r, \u001b[33m\"\u001b[39m\u001b[33mf\u001b[39m\u001b[33m\"\u001b[39m)  \u001b[38;5;66;03m# initialize\u001b[39;00m\n\u001b[32m    492\u001b[39m \u001b[38;5;28;01mfor\u001b[39;00m L \u001b[38;5;129;01min\u001b[39;00m \u001b[38;5;28mrange\u001b[39m(\u001b[32m0\u001b[39m, Lmax + \u001b[32m1\u001b[39m, \u001b[32m2\u001b[39m):\n\u001b[32m    493\u001b[39m \n\u001b[32m    494\u001b[39m     \u001b[38;5;66;03m# Make interpolation function for rho_LM\u001b[39;00m\n\u001b[32m--> \u001b[39m\u001b[32m495\u001b[39m     rho_LM = \u001b[38;5;28;43mself\u001b[39;49m\u001b[43m.\u001b[49m\u001b[43mrho_LM_interp\u001b[49m\u001b[43m(\u001b[49m\u001b[43mL\u001b[49m\u001b[43m,\u001b[49m\u001b[43m \u001b[49m\u001b[32;43m0\u001b[39;49m\u001b[43m,\u001b[49m\u001b[43m \u001b[49m\u001b[43m*\u001b[49m\u001b[43m*\u001b[49m\u001b[43mkwargs\u001b[49m\u001b[43m)\u001b[49m\n\u001b[32m    497\u001b[39m     \u001b[38;5;66;03m# Calculate LM mode contribution\u001b[39;00m\n\u001b[32m    498\u001b[39m     Vsq_old = np.array(Vsq_tot)\n",
      "\u001b[36mFile \u001b[39m\u001b[32m~/Desktop/github-projects/nonspherical-sidm-jeans-model/src/sidmhalo/classes.py:324\u001b[39m, in \u001b[36mprofile.rho_LM_interp\u001b[39m\u001b[34m(self, L, M, k, num)\u001b[39m\n\u001b[32m    322\u001b[39m \u001b[38;5;66;03m# Remaining nonspherical cases\u001b[39;00m\n\u001b[32m    323\u001b[39m r_list = np.geomspace(rmin, rmax, num=num)\n\u001b[32m--> \u001b[39m\u001b[32m324\u001b[39m rho_LM_list = \u001b[38;5;28;43mself\u001b[39;49m\u001b[43m.\u001b[49m\u001b[43mrho_LM\u001b[49m\u001b[43m(\u001b[49m\u001b[43mL\u001b[49m\u001b[43m,\u001b[49m\u001b[43m \u001b[49m\u001b[43mM\u001b[49m\u001b[43m,\u001b[49m\u001b[43m \u001b[49m\u001b[43mr_list\u001b[49m\u001b[43m)\u001b[49m\n\u001b[32m    326\u001b[39m \u001b[38;5;66;03m# Case where moments are all zero\u001b[39;00m\n\u001b[32m    327\u001b[39m \u001b[38;5;66;03m# Just test first entry\u001b[39;00m\n\u001b[32m    328\u001b[39m \u001b[38;5;28;01mif\u001b[39;00m rho_LM_list[\u001b[32m0\u001b[39m] == \u001b[32m0\u001b[39m:\n",
      "\u001b[36mFile \u001b[39m\u001b[32m~/Desktop/github-projects/nonspherical-sidm-jeans-model/src/sidmhalo/classes.py:267\u001b[39m, in \u001b[36mprofile.rho_LM\u001b[39m\u001b[34m(self, L, M, r)\u001b[39m\n\u001b[32m    263\u001b[39m         \u001b[38;5;28;01mreturn\u001b[39;00m integrate(integrand, \u001b[32m0\u001b[39m, np.pi)\n\u001b[32m    265\u001b[39m \u001b[38;5;66;03m# If r is an array, loop over those values recursively\u001b[39;00m\n\u001b[32m    266\u001b[39m \u001b[38;5;28;01melse\u001b[39;00m:\n\u001b[32m--> \u001b[39m\u001b[32m267\u001b[39m     \u001b[38;5;28;01mreturn\u001b[39;00m np.array([\u001b[38;5;28;43mself\u001b[39;49m\u001b[43m.\u001b[49m\u001b[43mrho_LM\u001b[49m\u001b[43m(\u001b[49m\u001b[43mL\u001b[49m\u001b[43m,\u001b[49m\u001b[43m \u001b[49m\u001b[43mM\u001b[49m\u001b[43m,\u001b[49m\u001b[43m \u001b[49m\u001b[43mri\u001b[49m\u001b[43m)\u001b[49m \u001b[38;5;28;01mfor\u001b[39;00m ri \u001b[38;5;129;01min\u001b[39;00m r])\n",
      "\u001b[36mFile \u001b[39m\u001b[32m~/Desktop/github-projects/nonspherical-sidm-jeans-model/src/sidmhalo/classes.py:263\u001b[39m, in \u001b[36mprofile.rho_LM\u001b[39m\u001b[34m(self, L, M, r)\u001b[39m\n\u001b[32m    254\u001b[39m     \u001b[38;5;66;03m# Compute integral\u001b[39;00m\n\u001b[32m    255\u001b[39m     \u001b[38;5;28;01melse\u001b[39;00m:\n\u001b[32m    256\u001b[39m         integrand = (\n\u001b[32m    257\u001b[39m             \u001b[38;5;28;01mlambda\u001b[39;00m th: \u001b[32m2\u001b[39m\n\u001b[32m    258\u001b[39m             * np.pi\n\u001b[32m   (...)\u001b[39m\u001b[32m    261\u001b[39m             * Z(L, M, th, \u001b[32m0\u001b[39m)\n\u001b[32m    262\u001b[39m         )\n\u001b[32m--> \u001b[39m\u001b[32m263\u001b[39m         \u001b[38;5;28;01mreturn\u001b[39;00m \u001b[43mintegrate\u001b[49m\u001b[43m(\u001b[49m\u001b[43mintegrand\u001b[49m\u001b[43m,\u001b[49m\u001b[43m \u001b[49m\u001b[32;43m0\u001b[39;49m\u001b[43m,\u001b[49m\u001b[43m \u001b[49m\u001b[43mnp\u001b[49m\u001b[43m.\u001b[49m\u001b[43mpi\u001b[49m\u001b[43m)\u001b[49m\n\u001b[32m    265\u001b[39m \u001b[38;5;66;03m# If r is an array, loop over those values recursively\u001b[39;00m\n\u001b[32m    266\u001b[39m \u001b[38;5;28;01melse\u001b[39;00m:\n\u001b[32m    267\u001b[39m     \u001b[38;5;28;01mreturn\u001b[39;00m np.array([\u001b[38;5;28mself\u001b[39m.rho_LM(L, M, ri) \u001b[38;5;28;01mfor\u001b[39;00m ri \u001b[38;5;129;01min\u001b[39;00m r])\n",
      "\u001b[36mFile \u001b[39m\u001b[32m~/Desktop/github-projects/nonspherical-sidm-jeans-model/src/sidmhalo/definitions.py:56\u001b[39m, in \u001b[36mintegrate\u001b[39m\u001b[34m(func, xmin, xmax, atol, rtol, args)\u001b[39m\n\u001b[32m     52\u001b[39m \u001b[38;5;28;01mexcept\u001b[39;00m:\n\u001b[32m     53\u001b[39m \n\u001b[32m     54\u001b[39m     \u001b[38;5;66;03m# print('quad raised an error, using solve_ivp instead (a bit slower).')\u001b[39;00m\n\u001b[32m     55\u001b[39m     RHS = \u001b[38;5;28;01mlambda\u001b[39;00m t, y: func(t, *args)\n\u001b[32m---> \u001b[39m\u001b[32m56\u001b[39m     sol = \u001b[43msolve_ivp\u001b[49m\u001b[43m(\u001b[49m\u001b[43mRHS\u001b[49m\u001b[43m,\u001b[49m\u001b[43m \u001b[49m\u001b[43m[\u001b[49m\u001b[43mxmin\u001b[49m\u001b[43m,\u001b[49m\u001b[43m \u001b[49m\u001b[43mxmax\u001b[49m\u001b[43m]\u001b[49m\u001b[43m,\u001b[49m\u001b[43m \u001b[49m\u001b[43m[\u001b[49m\u001b[32;43m0\u001b[39;49m\u001b[43m]\u001b[49m\u001b[43m,\u001b[49m\u001b[43m \u001b[49m\u001b[43matol\u001b[49m\u001b[43m=\u001b[49m\u001b[32;43m1e-12\u001b[39;49m\u001b[43m,\u001b[49m\u001b[43m \u001b[49m\u001b[43mrtol\u001b[49m\u001b[43m=\u001b[49m\u001b[32;43m1e-12\u001b[39;49m\u001b[43m)\u001b[49m\n\u001b[32m     57\u001b[39m     output = sol.y[\u001b[32m0\u001b[39m][-\u001b[32m1\u001b[39m]\n\u001b[32m     59\u001b[39m \u001b[38;5;28;01mreturn\u001b[39;00m output\n",
      "\u001b[36mFile \u001b[39m\u001b[32m~/Desktop/github-projects/nonspherical-sidm-jeans-model/.jeansenv/lib/python3.13/site-packages/scipy/integrate/_ivp/ivp.py:655\u001b[39m, in \u001b[36msolve_ivp\u001b[39m\u001b[34m(fun, t_span, y0, method, t_eval, dense_output, events, vectorized, args, **options)\u001b[39m\n\u001b[32m    653\u001b[39m status = \u001b[38;5;28;01mNone\u001b[39;00m\n\u001b[32m    654\u001b[39m \u001b[38;5;28;01mwhile\u001b[39;00m status \u001b[38;5;129;01mis\u001b[39;00m \u001b[38;5;28;01mNone\u001b[39;00m:\n\u001b[32m--> \u001b[39m\u001b[32m655\u001b[39m     message = \u001b[43msolver\u001b[49m\u001b[43m.\u001b[49m\u001b[43mstep\u001b[49m\u001b[43m(\u001b[49m\u001b[43m)\u001b[49m\n\u001b[32m    657\u001b[39m     \u001b[38;5;28;01mif\u001b[39;00m solver.status == \u001b[33m'\u001b[39m\u001b[33mfinished\u001b[39m\u001b[33m'\u001b[39m:\n\u001b[32m    658\u001b[39m         status = \u001b[32m0\u001b[39m\n",
      "\u001b[36mFile \u001b[39m\u001b[32m~/Desktop/github-projects/nonspherical-sidm-jeans-model/.jeansenv/lib/python3.13/site-packages/scipy/integrate/_ivp/base.py:197\u001b[39m, in \u001b[36mOdeSolver.step\u001b[39m\u001b[34m(self)\u001b[39m\n\u001b[32m    195\u001b[39m \u001b[38;5;28;01melse\u001b[39;00m:\n\u001b[32m    196\u001b[39m     t = \u001b[38;5;28mself\u001b[39m.t\n\u001b[32m--> \u001b[39m\u001b[32m197\u001b[39m     success, message = \u001b[38;5;28;43mself\u001b[39;49m\u001b[43m.\u001b[49m\u001b[43m_step_impl\u001b[49m\u001b[43m(\u001b[49m\u001b[43m)\u001b[49m\n\u001b[32m    199\u001b[39m     \u001b[38;5;28;01mif\u001b[39;00m \u001b[38;5;129;01mnot\u001b[39;00m success:\n\u001b[32m    200\u001b[39m         \u001b[38;5;28mself\u001b[39m.status = \u001b[33m'\u001b[39m\u001b[33mfailed\u001b[39m\u001b[33m'\u001b[39m\n",
      "\u001b[36mFile \u001b[39m\u001b[32m~/Desktop/github-projects/nonspherical-sidm-jeans-model/.jeansenv/lib/python3.13/site-packages/scipy/integrate/_ivp/rk.py:144\u001b[39m, in \u001b[36mRungeKutta._step_impl\u001b[39m\u001b[34m(self)\u001b[39m\n\u001b[32m    141\u001b[39m h = t_new - t\n\u001b[32m    142\u001b[39m h_abs = np.abs(h)\n\u001b[32m--> \u001b[39m\u001b[32m144\u001b[39m y_new, f_new = \u001b[43mrk_step\u001b[49m\u001b[43m(\u001b[49m\u001b[38;5;28;43mself\u001b[39;49m\u001b[43m.\u001b[49m\u001b[43mfun\u001b[49m\u001b[43m,\u001b[49m\u001b[43m \u001b[49m\u001b[43mt\u001b[49m\u001b[43m,\u001b[49m\u001b[43m \u001b[49m\u001b[43my\u001b[49m\u001b[43m,\u001b[49m\u001b[43m \u001b[49m\u001b[38;5;28;43mself\u001b[39;49m\u001b[43m.\u001b[49m\u001b[43mf\u001b[49m\u001b[43m,\u001b[49m\u001b[43m \u001b[49m\u001b[43mh\u001b[49m\u001b[43m,\u001b[49m\u001b[43m \u001b[49m\u001b[38;5;28;43mself\u001b[39;49m\u001b[43m.\u001b[49m\u001b[43mA\u001b[49m\u001b[43m,\u001b[49m\n\u001b[32m    145\u001b[39m \u001b[43m                       \u001b[49m\u001b[38;5;28;43mself\u001b[39;49m\u001b[43m.\u001b[49m\u001b[43mB\u001b[49m\u001b[43m,\u001b[49m\u001b[43m \u001b[49m\u001b[38;5;28;43mself\u001b[39;49m\u001b[43m.\u001b[49m\u001b[43mC\u001b[49m\u001b[43m,\u001b[49m\u001b[43m \u001b[49m\u001b[38;5;28;43mself\u001b[39;49m\u001b[43m.\u001b[49m\u001b[43mK\u001b[49m\u001b[43m)\u001b[49m\n\u001b[32m    146\u001b[39m scale = atol + np.maximum(np.abs(y), np.abs(y_new)) * rtol\n\u001b[32m    147\u001b[39m error_norm = \u001b[38;5;28mself\u001b[39m._estimate_error_norm(\u001b[38;5;28mself\u001b[39m.K, h, scale)\n",
      "\u001b[36mFile \u001b[39m\u001b[32m~/Desktop/github-projects/nonspherical-sidm-jeans-model/.jeansenv/lib/python3.13/site-packages/scipy/integrate/_ivp/rk.py:64\u001b[39m, in \u001b[36mrk_step\u001b[39m\u001b[34m(fun, t, y, f, h, A, B, C, K)\u001b[39m\n\u001b[32m     62\u001b[39m \u001b[38;5;28;01mfor\u001b[39;00m s, (a, c) \u001b[38;5;129;01min\u001b[39;00m \u001b[38;5;28menumerate\u001b[39m(\u001b[38;5;28mzip\u001b[39m(A[\u001b[32m1\u001b[39m:], C[\u001b[32m1\u001b[39m:]), start=\u001b[32m1\u001b[39m):\n\u001b[32m     63\u001b[39m     dy = np.dot(K[:s].T, a[:s]) * h\n\u001b[32m---> \u001b[39m\u001b[32m64\u001b[39m     K[s] = \u001b[43mfun\u001b[49m\u001b[43m(\u001b[49m\u001b[43mt\u001b[49m\u001b[43m \u001b[49m\u001b[43m+\u001b[49m\u001b[43m \u001b[49m\u001b[43mc\u001b[49m\u001b[43m \u001b[49m\u001b[43m*\u001b[49m\u001b[43m \u001b[49m\u001b[43mh\u001b[49m\u001b[43m,\u001b[49m\u001b[43m \u001b[49m\u001b[43my\u001b[49m\u001b[43m \u001b[49m\u001b[43m+\u001b[49m\u001b[43m \u001b[49m\u001b[43mdy\u001b[49m\u001b[43m)\u001b[49m\n\u001b[32m     66\u001b[39m y_new = y + h * np.dot(K[:-\u001b[32m1\u001b[39m].T, B)\n\u001b[32m     67\u001b[39m f_new = fun(t + h, y_new)\n",
      "\u001b[36mFile \u001b[39m\u001b[32m~/Desktop/github-projects/nonspherical-sidm-jeans-model/.jeansenv/lib/python3.13/site-packages/scipy/integrate/_ivp/base.py:154\u001b[39m, in \u001b[36mOdeSolver.__init__.<locals>.fun\u001b[39m\u001b[34m(t, y)\u001b[39m\n\u001b[32m    152\u001b[39m \u001b[38;5;28;01mdef\u001b[39;00m\u001b[38;5;250m \u001b[39m\u001b[34mfun\u001b[39m(t, y):\n\u001b[32m    153\u001b[39m     \u001b[38;5;28mself\u001b[39m.nfev += \u001b[32m1\u001b[39m\n\u001b[32m--> \u001b[39m\u001b[32m154\u001b[39m     \u001b[38;5;28;01mreturn\u001b[39;00m \u001b[38;5;28;43mself\u001b[39;49m\u001b[43m.\u001b[49m\u001b[43mfun_single\u001b[49m\u001b[43m(\u001b[49m\u001b[43mt\u001b[49m\u001b[43m,\u001b[49m\u001b[43m \u001b[49m\u001b[43my\u001b[49m\u001b[43m)\u001b[49m\n",
      "\u001b[36mFile \u001b[39m\u001b[32m~/Desktop/github-projects/nonspherical-sidm-jeans-model/.jeansenv/lib/python3.13/site-packages/scipy/integrate/_ivp/base.py:23\u001b[39m, in \u001b[36mcheck_arguments.<locals>.fun_wrapped\u001b[39m\u001b[34m(t, y)\u001b[39m\n\u001b[32m     22\u001b[39m \u001b[38;5;28;01mdef\u001b[39;00m\u001b[38;5;250m \u001b[39m\u001b[34mfun_wrapped\u001b[39m(t, y):\n\u001b[32m---> \u001b[39m\u001b[32m23\u001b[39m     \u001b[38;5;28;01mreturn\u001b[39;00m np.asarray(\u001b[43mfun\u001b[49m\u001b[43m(\u001b[49m\u001b[43mt\u001b[49m\u001b[43m,\u001b[49m\u001b[43m \u001b[49m\u001b[43my\u001b[49m\u001b[43m)\u001b[49m, dtype=dtype)\n",
      "\u001b[36mFile \u001b[39m\u001b[32m~/Desktop/github-projects/nonspherical-sidm-jeans-model/src/sidmhalo/definitions.py:55\u001b[39m, in \u001b[36mintegrate.<locals>.<lambda>\u001b[39m\u001b[34m(t, y)\u001b[39m\n\u001b[32m     48\u001b[39m     output = quad(\n\u001b[32m     49\u001b[39m         func, xmin, xmax, args=\u001b[38;5;28mtuple\u001b[39m(args), limit=\u001b[32m50\u001b[39m, epsabs=atol, epsrel=rtol\n\u001b[32m     50\u001b[39m     )[\u001b[32m0\u001b[39m]\n\u001b[32m     52\u001b[39m \u001b[38;5;28;01mexcept\u001b[39;00m:\n\u001b[32m     53\u001b[39m \n\u001b[32m     54\u001b[39m     \u001b[38;5;66;03m# print('quad raised an error, using solve_ivp instead (a bit slower).')\u001b[39;00m\n\u001b[32m---> \u001b[39m\u001b[32m55\u001b[39m     RHS = \u001b[38;5;28;01mlambda\u001b[39;00m t, y: \u001b[43mfunc\u001b[49m\u001b[43m(\u001b[49m\u001b[43mt\u001b[49m\u001b[43m,\u001b[49m\u001b[43m \u001b[49m\u001b[43m*\u001b[49m\u001b[43margs\u001b[49m\u001b[43m)\u001b[49m\n\u001b[32m     56\u001b[39m     sol = solve_ivp(RHS, [xmin, xmax], [\u001b[32m0\u001b[39m], atol=\u001b[32m1e-12\u001b[39m, rtol=\u001b[32m1e-12\u001b[39m)\n\u001b[32m     57\u001b[39m     output = sol.y[\u001b[32m0\u001b[39m][-\u001b[32m1\u001b[39m]\n",
      "\u001b[36mFile \u001b[39m\u001b[32m~/Desktop/github-projects/nonspherical-sidm-jeans-model/src/sidmhalo/classes.py:260\u001b[39m, in \u001b[36mprofile.rho_LM.<locals>.<lambda>\u001b[39m\u001b[34m(th)\u001b[39m\n\u001b[32m    252\u001b[39m         \u001b[38;5;28;01mreturn\u001b[39;00m \u001b[32m0.0\u001b[39m\n\u001b[32m    254\u001b[39m     \u001b[38;5;66;03m# Compute integral\u001b[39;00m\n\u001b[32m    255\u001b[39m     \u001b[38;5;28;01melse\u001b[39;00m:\n\u001b[32m    256\u001b[39m         integrand = (\n\u001b[32m    257\u001b[39m             \u001b[38;5;28;01mlambda\u001b[39;00m th: \u001b[32m2\u001b[39m\n\u001b[32m    258\u001b[39m             * np.pi\n\u001b[32m    259\u001b[39m             * np.sin(th)\n\u001b[32m--> \u001b[39m\u001b[32m260\u001b[39m             * \u001b[38;5;28;43mself\u001b[39;49m\u001b[43m.\u001b[49m\u001b[43mrho_sph\u001b[49m\u001b[43m(\u001b[49m\u001b[43mr\u001b[49m\u001b[43m,\u001b[49m\u001b[43m \u001b[49m\u001b[43mth\u001b[49m\u001b[43m)\u001b[49m\n\u001b[32m    261\u001b[39m             * Z(L, M, th, \u001b[32m0\u001b[39m)\n\u001b[32m    262\u001b[39m         )\n\u001b[32m    263\u001b[39m         \u001b[38;5;28;01mreturn\u001b[39;00m integrate(integrand, \u001b[32m0\u001b[39m, np.pi)\n\u001b[32m    265\u001b[39m \u001b[38;5;66;03m# If r is an array, loop over those values recursively\u001b[39;00m\n\u001b[32m    266\u001b[39m \u001b[38;5;28;01melse\u001b[39;00m:\n",
      "\u001b[36mFile \u001b[39m\u001b[32m~/Desktop/github-projects/nonspherical-sidm-jeans-model/src/sidmhalo/classes.py:183\u001b[39m, in \u001b[36mprofile.rho_sph\u001b[39m\u001b[34m(self, r, th, interp, zsym)\u001b[39m\n\u001b[32m    179\u001b[39m \u001b[38;5;28;01melif\u001b[39;00m (np.ndim(r) == \u001b[32m0\u001b[39m) \u001b[38;5;129;01mand\u001b[39;00m (np.ndim(th) == \u001b[32m0\u001b[39m):\n\u001b[32m    180\u001b[39m \n\u001b[32m    181\u001b[39m     \u001b[38;5;66;03m# Squashed profile\u001b[39;00m\n\u001b[32m    182\u001b[39m     \u001b[38;5;28;01mif\u001b[39;00m \u001b[38;5;28mself\u001b[39m.squash_flag:\n\u001b[32m--> \u001b[39m\u001b[32m183\u001b[39m         \u001b[38;5;28;01mreturn\u001b[39;00m \u001b[38;5;28;43mself\u001b[39;49m\u001b[43m.\u001b[49m\u001b[43mrho_spherical\u001b[49m\u001b[43m(\u001b[49m\u001b[38;5;28;43mself\u001b[39;49m\u001b[43m.\u001b[49m\u001b[43mr_sph\u001b[49m\u001b[43m(\u001b[49m\u001b[43mr\u001b[49m\u001b[43m,\u001b[49m\u001b[43m \u001b[49m\u001b[43mth\u001b[49m\u001b[43m,\u001b[49m\u001b[43m \u001b[49m\u001b[43minterp\u001b[49m\u001b[43m=\u001b[49m\u001b[43minterp\u001b[49m\u001b[43m)\u001b[49m\u001b[43m)\u001b[49m\n\u001b[32m    185\u001b[39m     \u001b[38;5;66;03m# Inner profile without squashing\u001b[39;00m\n\u001b[32m    186\u001b[39m     \u001b[38;5;66;03m# Usual prescription\u001b[39;00m\n\u001b[32m    187\u001b[39m     \u001b[38;5;28;01melse\u001b[39;00m:\n\u001b[32m    188\u001b[39m         \u001b[38;5;28;01mif\u001b[39;00m r < \u001b[38;5;28mself\u001b[39m.r1:\n",
      "\u001b[36mFile \u001b[39m\u001b[32m~/Desktop/github-projects/nonspherical-sidm-jeans-model/src/sidmhalo/classes.py:164\u001b[39m, in \u001b[36mprofile.rho_spherical\u001b[39m\u001b[34m(self, r)\u001b[39m\n\u001b[32m    160\u001b[39m \u001b[38;5;28;01mdef\u001b[39;00m\u001b[38;5;250m \u001b[39m\u001b[34mrho_spherical\u001b[39m(\u001b[38;5;28mself\u001b[39m, r):\n\u001b[32m    162\u001b[39m     \u001b[38;5;28;01mif\u001b[39;00m np.ndim(r) == \u001b[32m0\u001b[39m:\n\u001b[32m    163\u001b[39m         \u001b[38;5;28;01mreturn\u001b[39;00m (\n\u001b[32m--> \u001b[39m\u001b[32m164\u001b[39m             \u001b[38;5;28;43mself\u001b[39;49m\u001b[43m.\u001b[49m\u001b[43minner\u001b[49m\u001b[43m.\u001b[49m\u001b[43mrho_sph_avg\u001b[49m\u001b[43m(\u001b[49m\u001b[43mr\u001b[49m\u001b[43m)\u001b[49m \u001b[38;5;28;01mif\u001b[39;00m r < \u001b[38;5;28mself\u001b[39m.r1 \u001b[38;5;28;01melse\u001b[39;00m \u001b[38;5;28mself\u001b[39m.outer.rho_sph_avg(r)\n\u001b[32m    165\u001b[39m         )\n\u001b[32m    167\u001b[39m     \u001b[38;5;28;01melse\u001b[39;00m:\n\u001b[32m    168\u001b[39m         \u001b[38;5;28;01mreturn\u001b[39;00m np.array([\u001b[38;5;28mself\u001b[39m.rho_spherical(ri) \u001b[38;5;28;01mfor\u001b[39;00m ri \u001b[38;5;129;01min\u001b[39;00m r])\n",
      "\u001b[36mFile \u001b[39m\u001b[32m~/Desktop/github-projects/nonspherical-sidm-jeans-model/src/sidmhalo/classes.py:1179\u001b[39m, in \u001b[36misothermal_profile.rho_sph_avg\u001b[39m\u001b[34m(self, *r)\u001b[39m\n\u001b[32m   1177\u001b[39m \u001b[38;5;28;01mif\u001b[39;00m \u001b[38;5;28mself\u001b[39m.sph_sym_flag:\n\u001b[32m   1178\u001b[39m     phi_b = (\u001b[38;5;28mself\u001b[39m.Phi_b(r_list) - \u001b[38;5;28mself\u001b[39m.Phi_b(\u001b[32m0\u001b[39m)) / \u001b[38;5;28mself\u001b[39m.sigma0**\u001b[32m2\u001b[39m\n\u001b[32m-> \u001b[39m\u001b[32m1179\u001b[39m     phi_dm = \u001b[38;5;28;43mself\u001b[39;49m\u001b[43m.\u001b[49m\u001b[43mphi\u001b[49m\u001b[43m(\u001b[49m\u001b[32;43m0\u001b[39;49m\u001b[43m,\u001b[49m\u001b[43m \u001b[49m\u001b[32;43m0\u001b[39;49m\u001b[43m,\u001b[49m\u001b[43m \u001b[49m\u001b[43mr_list\u001b[49m\u001b[43m)\u001b[49m * Z(\u001b[32m0\u001b[39m, \u001b[32m0\u001b[39m, \u001b[32m0\u001b[39m, \u001b[32m0\u001b[39m)\n\u001b[32m   1180\u001b[39m     \u001b[38;5;28;01mreturn\u001b[39;00m \u001b[38;5;28mself\u001b[39m.rho0 * np.exp(-phi_dm - phi_b)\n\u001b[32m   1182\u001b[39m \u001b[38;5;66;03m# General cose\u001b[39;00m\n\u001b[32m   1183\u001b[39m \u001b[38;5;28;01melse\u001b[39;00m:\n\u001b[32m   1184\u001b[39m \n\u001b[32m   1185\u001b[39m     \u001b[38;5;66;03m# Construct array of phi_LM values\u001b[39;00m\n",
      "\u001b[36mFile \u001b[39m\u001b[32m~/Desktop/github-projects/nonspherical-sidm-jeans-model/src/sidmhalo/classes.py:1024\u001b[39m, in \u001b[36misothermal_profile.phi\u001b[39m\u001b[34m(self, L, M, *r)\u001b[39m\n\u001b[32m   1023\u001b[39m \u001b[38;5;28;01mdef\u001b[39;00m\u001b[38;5;250m \u001b[39m\u001b[34mphi\u001b[39m(\u001b[38;5;28mself\u001b[39m, L, M, *r):\n\u001b[32m-> \u001b[39m\u001b[32m1024\u001b[39m     \u001b[38;5;28;01mreturn\u001b[39;00m \u001b[38;5;28;43mself\u001b[39;49m\u001b[43m.\u001b[49m\u001b[43mget_moment\u001b[49m\u001b[43m(\u001b[49m\u001b[33;43m\"\u001b[39;49m\u001b[33;43mphi\u001b[39;49m\u001b[33;43m\"\u001b[39;49m\u001b[43m,\u001b[49m\u001b[43m \u001b[49m\u001b[43mL\u001b[49m\u001b[43m,\u001b[49m\u001b[43m \u001b[49m\u001b[43mM\u001b[49m\u001b[43m,\u001b[49m\u001b[43m \u001b[49m\u001b[43m*\u001b[49m\u001b[43mr\u001b[49m\u001b[43m)\u001b[49m\n",
      "\u001b[36mFile \u001b[39m\u001b[32m~/Desktop/github-projects/nonspherical-sidm-jeans-model/src/sidmhalo/classes.py:998\u001b[39m, in \u001b[36misothermal_profile.get_moment\u001b[39m\u001b[34m(self, moment_type, L, M, k, *r)\u001b[39m\n\u001b[32m    992\u001b[39m     \u001b[38;5;28;01mreturn\u001b[39;00m moment\n\u001b[32m    994\u001b[39m \u001b[38;5;66;03m# Return interpolated result at r\u001b[39;00m\n\u001b[32m    995\u001b[39m \u001b[38;5;28;01melse\u001b[39;00m:\n\u001b[32m    996\u001b[39m \n\u001b[32m    997\u001b[39m     \u001b[38;5;66;03m# Check within grid\u001b[39;00m\n\u001b[32m--> \u001b[39m\u001b[32m998\u001b[39m     \u001b[38;5;28;01mif\u001b[39;00m \u001b[43mnp\u001b[49m\u001b[43m.\u001b[49m\u001b[43mamax\u001b[49m\u001b[43m(\u001b[49m\u001b[43mr\u001b[49m\u001b[43m)\u001b[49m > \u001b[38;5;28mself\u001b[39m.r1:\n\u001b[32m    999\u001b[39m         \u001b[38;5;28;01mraise\u001b[39;00m \u001b[38;5;167;01mException\u001b[39;00m(\n\u001b[32m   1000\u001b[39m             \u001b[33m\"\u001b[39m\u001b[33mAll r values must be < r1. max(r)=\u001b[39m\u001b[38;5;132;01m%f\u001b[39;00m\u001b[33m outside r1.\u001b[39m\u001b[33m\"\u001b[39m % np.amax(r)\n\u001b[32m   1001\u001b[39m         )\n\u001b[32m   1003\u001b[39m     \u001b[38;5;66;03m# Get inner slope\u001b[39;00m\n",
      "\u001b[36mFile \u001b[39m\u001b[32m~/Desktop/github-projects/nonspherical-sidm-jeans-model/.jeansenv/lib/python3.13/site-packages/numpy/_core/fromnumeric.py:3181\u001b[39m, in \u001b[36mamax\u001b[39m\u001b[34m(a, axis, out, keepdims, initial, where)\u001b[39m\n\u001b[32m   3168\u001b[39m \u001b[38;5;129m@array_function_dispatch\u001b[39m(_max_dispatcher)\n\u001b[32m   3169\u001b[39m \u001b[38;5;28;01mdef\u001b[39;00m\u001b[38;5;250m \u001b[39m\u001b[34mamax\u001b[39m(a, axis=\u001b[38;5;28;01mNone\u001b[39;00m, out=\u001b[38;5;28;01mNone\u001b[39;00m, keepdims=np._NoValue, initial=np._NoValue,\n\u001b[32m   3170\u001b[39m          where=np._NoValue):\n\u001b[32m   3171\u001b[39m \u001b[38;5;250m    \u001b[39m\u001b[33;03m\"\"\"\u001b[39;00m\n\u001b[32m   3172\u001b[39m \u001b[33;03m    Return the maximum of an array or maximum along an axis.\u001b[39;00m\n\u001b[32m   3173\u001b[39m \n\u001b[32m   (...)\u001b[39m\u001b[32m   3179\u001b[39m \u001b[33;03m    ndarray.max : equivalent method\u001b[39;00m\n\u001b[32m   3180\u001b[39m \u001b[33;03m    \"\"\"\u001b[39;00m\n\u001b[32m-> \u001b[39m\u001b[32m3181\u001b[39m     \u001b[38;5;28;01mreturn\u001b[39;00m \u001b[43m_wrapreduction\u001b[49m\u001b[43m(\u001b[49m\u001b[43ma\u001b[49m\u001b[43m,\u001b[49m\u001b[43m \u001b[49m\u001b[43mnp\u001b[49m\u001b[43m.\u001b[49m\u001b[43mmaximum\u001b[49m\u001b[43m,\u001b[49m\u001b[43m \u001b[49m\u001b[33;43m'\u001b[39;49m\u001b[33;43mmax\u001b[39;49m\u001b[33;43m'\u001b[39;49m\u001b[43m,\u001b[49m\u001b[43m \u001b[49m\u001b[43maxis\u001b[49m\u001b[43m,\u001b[49m\u001b[43m \u001b[49m\u001b[38;5;28;43;01mNone\u001b[39;49;00m\u001b[43m,\u001b[49m\u001b[43m \u001b[49m\u001b[43mout\u001b[49m\u001b[43m,\u001b[49m\n\u001b[32m   3182\u001b[39m \u001b[43m                          \u001b[49m\u001b[43mkeepdims\u001b[49m\u001b[43m=\u001b[49m\u001b[43mkeepdims\u001b[49m\u001b[43m,\u001b[49m\u001b[43m \u001b[49m\u001b[43minitial\u001b[49m\u001b[43m=\u001b[49m\u001b[43minitial\u001b[49m\u001b[43m,\u001b[49m\u001b[43m \u001b[49m\u001b[43mwhere\u001b[49m\u001b[43m=\u001b[49m\u001b[43mwhere\u001b[49m\u001b[43m)\u001b[49m\n",
      "\u001b[36mFile \u001b[39m\u001b[32m~/Desktop/github-projects/nonspherical-sidm-jeans-model/.jeansenv/lib/python3.13/site-packages/numpy/_core/fromnumeric.py:86\u001b[39m, in \u001b[36m_wrapreduction\u001b[39m\u001b[34m(obj, ufunc, method, axis, dtype, out, **kwargs)\u001b[39m\n\u001b[32m     83\u001b[39m         \u001b[38;5;28;01melse\u001b[39;00m:\n\u001b[32m     84\u001b[39m             \u001b[38;5;28;01mreturn\u001b[39;00m reduction(axis=axis, out=out, **passkwargs)\n\u001b[32m---> \u001b[39m\u001b[32m86\u001b[39m \u001b[38;5;28;01mreturn\u001b[39;00m \u001b[43mufunc\u001b[49m\u001b[43m.\u001b[49m\u001b[43mreduce\u001b[49m\u001b[43m(\u001b[49m\u001b[43mobj\u001b[49m\u001b[43m,\u001b[49m\u001b[43m \u001b[49m\u001b[43maxis\u001b[49m\u001b[43m,\u001b[49m\u001b[43m \u001b[49m\u001b[43mdtype\u001b[49m\u001b[43m,\u001b[49m\u001b[43m \u001b[49m\u001b[43mout\u001b[49m\u001b[43m,\u001b[49m\u001b[43m \u001b[49m\u001b[43m*\u001b[49m\u001b[43m*\u001b[49m\u001b[43mpasskwargs\u001b[49m\u001b[43m)\u001b[49m\n",
      "\u001b[31mKeyboardInterrupt\u001b[39m: "
     ]
    }
   ],
   "source": [
    "r = np.linspace(1, 30, 10) # kpc\n",
    "test = profile.V(r)"
   ]
  },
  {
   "cell_type": "code",
   "execution_count": 5,
   "id": "085754b0",
   "metadata": {},
   "outputs": [
    {
     "data": {
      "image/png": "[encoded data removed]",
      "text/plain": [
       "<Figure size 600x400 with 1 Axes>"
      ]
     },
     "metadata": {},
     "output_type": "display_data"
    }
   ],
   "source": [
    "plt.figure(figsize=(6, 4))\n",
    "plt.plot(r, np.sqrt(test), label='Rotation Curve')\n",
    "plt.xlabel('Radius (kpc)')\n",
    "plt.ylabel('Circular Velocity (km/s)')\n",
    "plt.title('Rotation Curve from SIDM Halo Profile')\n",
    "plt.legend()\n",
    "plt.grid()\n",
    "plt.show()"
   ]
  },
  {
   "cell_type": "code",
   "execution_count": 5,
   "id": "bf8ce6ea",
   "metadata": {},
   "outputs": [
    {
     "name": "stderr",
     "output_type": "stream",
     "text": [
      "/home/asorlik/Desktop/github-projects/nonspherical-sidm-jeans-model/src/sidmhalo/classes.py:361: RuntimeWarning: invalid value encountered in log\n",
      "  inner_slope = np.log(rho_LM_list[1] / rho_LM_list[0]) / np.log(\n",
      "/home/asorlik/Desktop/github-projects/nonspherical-sidm-jeans-model/.jeansenv/lib/python3.13/site-packages/scipy/integrate/_ivp/common.py:132: RuntimeWarning: divide by zero encountered in scalar divide\n",
      "  h1 = (0.01 / max(d1, d2)) ** (1 / (order + 1))\n"
     ]
    },
    {
     "name": "stdout",
     "output_type": "stream",
     "text": [
      "[Vsq_LM] r_eval: [ 1.          2.52631579  4.05263158  5.57894737  7.10526316  8.63157895\n",
      " 10.15789474 11.68421053 13.21052632 14.73684211 16.26315789 17.78947368\n",
      " 19.31578947 20.84210526 22.36842105 23.89473684 25.42105263 26.94736842\n",
      " 28.47368421 30.        ]\n",
      "[Vsq_LM] rmin: 0 rmax: 30.0\n",
      "[Vsq_LM] L: 4\n",
      "[Vsq_LM] rho_LM(r_eval[:3]): [array(12972548.85373848), array(13306789.72893339), array(5420840.79157161)]\n",
      "[Vsq_LM] solution.t: []\n"
     ]
    },
    {
     "ename": "AttributeError",
     "evalue": "'list' object has no attribute 'shape'",
     "output_type": "error",
     "traceback": [
      "\u001b[31m---------------------------------------------------------------------------\u001b[39m",
      "\u001b[31mAttributeError\u001b[39m                            Traceback (most recent call last)",
      "\u001b[36mCell\u001b[39m\u001b[36m \u001b[39m\u001b[32mIn[5]\u001b[39m\u001b[32m, line 2\u001b[39m\n\u001b[32m      1\u001b[39m r = np.linspace(\u001b[32m1\u001b[39m, \u001b[32m30\u001b[39m , \u001b[32m20\u001b[39m)\n\u001b[32m----> \u001b[39m\u001b[32m2\u001b[39m rotation_curve_4 = \u001b[43mprofile\u001b[49m\u001b[43m.\u001b[49m\u001b[43mVsq_LM\u001b[49m\u001b[43m(\u001b[49m\u001b[43mr\u001b[49m\u001b[43m,\u001b[49m\u001b[43m \u001b[49m\u001b[32;43m4\u001b[39;49m\u001b[43m)\u001b[49m\n\u001b[32m      4\u001b[39m \u001b[38;5;28mprint\u001b[39m(rotation_curve_4)\n",
      "\u001b[36mFile \u001b[39m\u001b[32m~/Desktop/github-projects/nonspherical-sidm-jeans-model/src/sidmhalo/classes.py:527\u001b[39m, in \u001b[36mprofile.Vsq_LM\u001b[39m\u001b[34m(self, r, L, M, **kwargs)\u001b[39m\n\u001b[32m    525\u001b[39m \u001b[38;5;28;01mdef\u001b[39;00m\u001b[38;5;250m \u001b[39m\u001b[34mVsq_LM\u001b[39m(\u001b[38;5;28mself\u001b[39m, r, L, M=\u001b[32m0\u001b[39m, **kwargs):\n\u001b[32m    526\u001b[39m     rho_LM = \u001b[38;5;28mself\u001b[39m.rho_LM_interp(L, \u001b[32m0\u001b[39m, **kwargs)\n\u001b[32m--> \u001b[39m\u001b[32m527\u001b[39m     \u001b[38;5;28;01mreturn\u001b[39;00m \u001b[43mrotcurve\u001b[49m\u001b[43m.\u001b[49m\u001b[43mVsq_LM\u001b[49m\u001b[43m(\u001b[49m\u001b[43mrho_LM\u001b[49m\u001b[43m,\u001b[49m\u001b[43m \u001b[49m\u001b[43mr\u001b[49m\u001b[43m,\u001b[49m\u001b[43m \u001b[49m\u001b[43mL\u001b[49m\u001b[43m,\u001b[49m\u001b[43m \u001b[49m\u001b[43mM\u001b[49m\u001b[43m=\u001b[49m\u001b[43mM\u001b[49m\u001b[43m)\u001b[49m\n",
      "\u001b[36mFile \u001b[39m\u001b[32m~/Desktop/github-projects/nonspherical-sidm-jeans-model/src/sidmhalo/rotcurve.py:205\u001b[39m, in \u001b[36mVsq_LM\u001b[39m\u001b[34m(rho_LM, r, L, M)\u001b[39m\n\u001b[32m    201\u001b[39m solution = solve_ivp(\n\u001b[32m    202\u001b[39m     integrand, [rmin, rmax], [\u001b[32m0\u001b[39m], rtol=\u001b[32m1e-6\u001b[39m, atol=\u001b[32m1e-6\u001b[39m, t_eval=r_eval\n\u001b[32m    203\u001b[39m )\n\u001b[32m    204\u001b[39m \u001b[38;5;28mprint\u001b[39m(\u001b[33m\"\u001b[39m\u001b[33m[Vsq_LM] solution.t:\u001b[39m\u001b[33m\"\u001b[39m, solution.t)\n\u001b[32m--> \u001b[39m\u001b[32m205\u001b[39m \u001b[38;5;28mprint\u001b[39m(\u001b[33m\"\u001b[39m\u001b[33m[Vsq_LM] solution.y shape:\u001b[39m\u001b[33m\"\u001b[39m, \u001b[43msolution\u001b[49m\u001b[43m.\u001b[49m\u001b[43my\u001b[49m\u001b[43m.\u001b[49m\u001b[43mshape\u001b[49m)\n\u001b[32m    206\u001b[39m \u001b[38;5;28;01mif\u001b[39;00m solution.y.shape[\u001b[32m0\u001b[39m] == \u001b[32m0\u001b[39m \u001b[38;5;129;01mor\u001b[39;00m solution.y.shape[\u001b[32m1\u001b[39m] == \u001b[32m0\u001b[39m:\n\u001b[32m    207\u001b[39m     \u001b[38;5;28;01mraise\u001b[39;00m \u001b[38;5;167;01mRuntimeError\u001b[39;00m(\n\u001b[32m    208\u001b[39m         \u001b[33mf\u001b[39m\u001b[33m\"\u001b[39m\u001b[33m[Vsq_LM] solve_ivp returned empty solution.y: shape \u001b[39m\u001b[38;5;132;01m{\u001b[39;00msolution.y.shape\u001b[38;5;132;01m}\u001b[39;00m\u001b[33m. Check input arrays and integrand.\u001b[39m\u001b[33m\"\u001b[39m\n\u001b[32m    209\u001b[39m     )\n",
      "\u001b[31mAttributeError\u001b[39m: 'list' object has no attribute 'shape'"
     ]
    }
   ],
   "source": [
    "r = np.linspace(1, 30 , 20)\n",
    "rotation_curve_4 = profile.Vsq_LM(r, 4)\n",
    "\n",
    "print(rotation_curve_4)"
   ]
  },
  {
   "cell_type": "code",
   "execution_count": 8,
   "id": "c60d131d",
   "metadata": {},
   "outputs": [],
   "source": [
    "r = np.linspace(1, 30, 50) # kpc\n",
    "rotation_curve_0 = profile.Vsq_LM(r, 0) \n",
    "rotation_curve_2 = profile.Vsq_LM(r, 0) + profile.Vsq_LM(r, 2)"
   ]
  },
  {
   "cell_type": "code",
   "execution_count": 9,
   "id": "73ebfe23",
   "metadata": {},
   "outputs": [
    {
     "data": {
      "image/png": "[encoded data removed]",
      "text/plain": [
       "<Figure size 600x400 with 1 Axes>"
      ]
     },
     "metadata": {},
     "output_type": "display_data"
    }
   ],
   "source": [
    "plt.figure(figsize=(6, 4))\n",
    "plt.plot(r, rotation_curve_0**(0.5), label='Rotation Curve 0')\n",
    "plt.plot(r, rotation_curve_2**(0.5), label='Rotation Curve 2')\n",
    "plt.xlabel('Radius (kpc)')\n",
    "plt.ylabel('Velocity (km/s)')\n",
    "plt.title('Rotation Curves of the Halo')\n",
    "plt.legend()\n",
    "plt.grid()\n",
    "plt.show()"
   ]
  },
  {
   "cell_type": "code",
   "execution_count": 10,
   "id": "758aa9fc",
   "metadata": {},
   "outputs": [
    {
     "name": "stderr",
     "output_type": "stream",
     "text": [
      "/home/asorlik/Desktop/github-projects/nonspherical-sidm-jeans-model/src/sidmhalo/classes.py:397: RuntimeWarning: invalid value encountered in log\n",
      "  outer_slope = np.log(rho_LM_list[-1] / rho_LM_list[-2]) / np.log(\n"
     ]
    },
    {
     "name": "stdout",
     "output_type": "stream",
     "text": [
      "[ 7.57034306e-09 -7.77866444e-09  1.03186032e-07  7.54507586e-08\n",
      "  1.72430704e-09 -7.94069420e-08 -1.19745397e-07 -1.00050351e-07\n",
      " -5.86378957e-08 -1.79524360e-08  2.16275978e-08  5.83544478e-08\n",
      "  8.27620320e-08  8.63085604e-08  7.94441617e-08  6.94379851e-08\n",
      "  5.94394750e-08  5.06916016e-08  4.39531574e-08  3.85890660e-08\n",
      "  3.41233352e-08  3.02292342e-08  2.66605818e-08  2.32036253e-08\n",
      "  1.97876865e-08  1.68427562e-08  1.45122903e-08  1.30036348e-08\n",
      "  1.26045492e-08  1.35938779e-08  1.61373360e-08  2.01707953e-08\n",
      "  2.53583793e-08  3.11338231e-08  3.61896334e-08  3.93164598e-08\n",
      "  4.10410615e-08  4.18638295e-08  4.21487589e-08  4.21295601e-08\n",
      "  4.19395707e-08  4.16476938e-08  4.12768353e-08  4.08123547e-08\n",
      "  4.01989849e-08  3.93176264e-08  3.79250415e-08  3.55200403e-08\n",
      "  3.13581649e-08  2.35528901e-08]\n"
     ]
    }
   ],
   "source": [
    "check = profile.Vsq_LM(r, 1) # should be 0 \n",
    "print(check)"
   ]
  },
  {
   "cell_type": "code",
   "execution_count": 4,
   "id": "8e9eb574",
   "metadata": {},
   "outputs": [
    {
     "data": {
      "text/plain": [
       "np.float64(-59443.38503988109)"
      ]
     },
     "execution_count": 4,
     "metadata": {},
     "output_type": "execute_result"
    }
   ],
   "source": [
    "Phi_b(1,0)"
   ]
  },
  {
   "cell_type": "code",
   "execution_count": 5,
   "id": "7976cc0d",
   "metadata": {},
   "outputs": [
    {
     "data": {
      "text/plain": [
       "np.float64(-59443.38503988109)"
      ]
     },
     "execution_count": 5,
     "metadata": {},
     "output_type": "execute_result"
    }
   ],
   "source": [
    "profile.outer.Phi_b(1,0)  # potential at (R,z) = (8,0) kpc"
   ]
  },
  {
   "cell_type": "code",
   "execution_count": 6,
   "id": "f54c161c",
   "metadata": {},
   "outputs": [],
   "source": [
    "filename = \"test_profile_w_baryons.npz\"\n",
    "profile.save(filename) "
   ]
  },
  {
   "cell_type": "code",
   "execution_count": 7,
   "id": "81b3ec84",
   "metadata": {},
   "outputs": [],
   "source": [
    "lprofile = load_profile(filename)"
   ]
  },
  {
   "cell_type": "code",
   "execution_count": 8,
   "id": "f5c3a834",
   "metadata": {},
   "outputs": [
    {
     "name": "stdout",
     "output_type": "stream",
     "text": [
      "Before save Phi_b(1,0): -59443.38503988109, and after the save Phi_b(1,0): -59443.38503988109\n",
      "Before save Phi_b(1): -63497.85674532449, and after the save Phi_b(1,0): 0\n",
      "Before save q(1): 0.49711458991388163, and after the save q(1): 1\n"
     ]
    }
   ],
   "source": [
    "print(f'Before save Phi_b(1,0): {profile.outer.Phi_b(1,0)}, and after the save Phi_b(1,0): {lprofile.outer.Phi_b(1,0)}') \n",
    "print(f'Before save Phi_b(1): {profile.inner.Phi_b(1)}, and after the save Phi_b(1,0): {lprofile.inner.Phi_b(1)}') \n",
    "print(f'Before save q(1): {profile.q(1)}, and after the save q(1): {lprofile.q(1)}') "
   ]
  },
  {
   "cell_type": "code",
   "execution_count": 19,
   "id": "cea86f70",
   "metadata": {},
   "outputs": [
    {
     "name": "stdout",
     "output_type": "stream",
     "text": [
      "Before M200: 1000000000000.0, and after M200: 1000000000000.0\n"
     ]
    }
   ],
   "source": [
    "print(f'Before M200: {profile.outer.M200}, and after M200: {lprofile.outer.M200}')"
   ]
  },
  {
   "cell_type": "code",
   "execution_count": 11,
   "id": "06950bea",
   "metadata": {},
   "outputs": [
    {
     "data": {
      "text/plain": [
       "-63497.85674532449"
      ]
     },
     "execution_count": 11,
     "metadata": {},
     "output_type": "execute_result"
    }
   ],
   "source": [
    "profile.inner.Phi_b(1)"
   ]
  },
  {
   "cell_type": "code",
   "execution_count": 22,
   "id": "70a5cb73",
   "metadata": {},
   "outputs": [],
   "source": [
    "import inspect"
   ]
  },
  {
   "cell_type": "code",
   "execution_count": 26,
   "id": "6a07c75b",
   "metadata": {},
   "outputs": [
    {
     "data": {
      "text/plain": [
       "<Signature (r)>"
      ]
     },
     "execution_count": 26,
     "metadata": {},
     "output_type": "execute_result"
    }
   ],
   "source": [
    "inspect.signature(profile.inner.Phi_b)"
   ]
  },
  {
   "cell_type": "code",
   "execution_count": 25,
   "id": "6d2d405a",
   "metadata": {},
   "outputs": [
    {
     "data": {
      "text/plain": [
       "<Signature (r)>"
      ]
     },
     "execution_count": 25,
     "metadata": {},
     "output_type": "execute_result"
    }
   ],
   "source": [
    "inspect.signature(lprofile.inner.Phi_b)"
   ]
  },
  {
   "cell_type": "code",
   "execution_count": null,
   "id": "18193daf",
   "metadata": {},
   "outputs": [],
   "source": []
  }
 ],
 "metadata": {
  "kernelspec": {
   "display_name": ".jeansenv",
   "language": "python",
   "name": "python3"
  },
  "language_info": {
   "codemirror_mode": {
    "name": "ipython",
    "version": 3
   },
   "file_extension": ".py",
   "mimetype": "text/x-python",
   "name": "python",
   "nbconvert_exporter": "python",
   "pygments_lexer": "ipython3",
   "version": "3.13.7"
  }
 },
 "nbformat": 4,
 "nbformat_minor": 5
}
