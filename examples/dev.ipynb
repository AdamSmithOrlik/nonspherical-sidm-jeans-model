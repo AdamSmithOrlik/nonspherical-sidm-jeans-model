{
 "cells": [
  {
   "cell_type": "code",
   "execution_count": 11,
   "id": "31898b6d",
   "metadata": {},
   "outputs": [],
   "source": [
    "import sidmhalo\n",
    "from sidmhalo.classes import load_profile\n",
    "import os\n",
    "\n",
    "import numpy as np"
   ]
  },
  {
   "cell_type": "code",
   "execution_count": 2,
   "id": "b8fe57fa",
   "metadata": {},
   "outputs": [
    {
     "data": {
      "text/plain": [
       "'/home/asorlik/Desktop/github-projects/nonspherical-sidm-jeans-model/examples'"
      ]
     },
     "execution_count": 2,
     "metadata": {},
     "output_type": "execute_result"
    }
   ],
   "source": [
    "os.getcwd()"
   ]
  },
  {
   "cell_type": "markdown",
   "id": "625b9d84",
   "metadata": {},
   "source": [
    "# test the saving and loading functionality "
   ]
  },
  {
   "cell_type": "code",
   "execution_count": 16,
   "id": "6e10d426",
   "metadata": {},
   "outputs": [],
   "source": [
    "rm = 30 # radius of isothermal core, kpc\n",
    "M200 = 1e12 # virial mass, Msun\n",
    "R200 = 200 # virial radius, kpc\n",
    "c = 10 # concentration, dimensionless\n",
    "q_sph = 1 # spherical axis ratio, dimensionless\n",
    "Phi_b = None # baryon potential, Msun/kpc^2\n",
    "\n",
    "profile = sidmhalo.gen.squashed(rm, M200, c, q0=q_sph, Phi_b=Phi_b)"
   ]
  },
  {
   "cell_type": "code",
   "execution_count": 19,
   "id": "8c641ce7",
   "metadata": {},
   "outputs": [
    {
     "data": {
      "text/plain": [
       "<function sidmhalo.tools.compute_q_eff.<locals>.q_eff(r)>"
      ]
     },
     "execution_count": 19,
     "metadata": {},
     "output_type": "execute_result"
    }
   ],
   "source": [
    "profile.q"
   ]
  },
  {
   "cell_type": "code",
   "execution_count": 4,
   "id": "7d54f8a6",
   "metadata": {},
   "outputs": [],
   "source": [
    "filename = 'data/test_profile.npz'\n",
    "\n",
    "profile.save(filename)"
   ]
  },
  {
   "cell_type": "code",
   "execution_count": 5,
   "id": "d0809644",
   "metadata": {},
   "outputs": [],
   "source": [
    "# loading the profile\n",
    "loaded_profile, success = load_profile(filename)"
   ]
  },
  {
   "cell_type": "code",
   "execution_count": 6,
   "id": "1324cad3",
   "metadata": {},
   "outputs": [
    {
     "data": {
      "text/plain": [
       "sidmhalo.classes.isothermal_profile"
      ]
     },
     "execution_count": 6,
     "metadata": {},
     "output_type": "execute_result"
    }
   ],
   "source": [
    "type(loaded_profile)"
   ]
  },
  {
   "cell_type": "code",
   "execution_count": 8,
   "id": "a0c95258",
   "metadata": {},
   "outputs": [
    {
     "ename": "AttributeError",
     "evalue": "'function' object has no attribute 'r1'",
     "output_type": "error",
     "traceback": [
      "\u001b[31m---------------------------------------------------------------------------\u001b[39m",
      "\u001b[31mAttributeError\u001b[39m                            Traceback (most recent call last)",
      "\u001b[36mCell\u001b[39m\u001b[36m \u001b[39m\u001b[32mIn[8]\u001b[39m\u001b[32m, line 1\u001b[39m\n\u001b[32m----> \u001b[39m\u001b[32m1\u001b[39m \u001b[43mload_profile\u001b[49m\u001b[43m.\u001b[49m\u001b[43mr1\u001b[49m\n",
      "\u001b[31mAttributeError\u001b[39m: 'function' object has no attribute 'r1'"
     ]
    }
   ],
   "source": [
    "load_profile.r1"
   ]
  },
  {
   "cell_type": "code",
   "execution_count": 14,
   "id": "0a5bb269",
   "metadata": {},
   "outputs": [
    {
     "data": {
      "text/plain": [
       "['M200',\n",
       " 'c',\n",
       " 'q0',\n",
       " 'AC_prescription',\n",
       " 'y',\n",
       " 'params',\n",
       " 'r_list',\n",
       " 'L_list',\n",
       " 'M_list',\n",
       " 'attrs']"
      ]
     },
     "execution_count": 14,
     "metadata": {},
     "output_type": "execute_result"
    }
   ],
   "source": [
    "data = np.load(filename, allow_pickle=True)\n",
    "data.files"
   ]
  },
  {
   "cell_type": "code",
   "execution_count": 15,
   "id": "88988c5a",
   "metadata": {},
   "outputs": [
    {
     "name": "stdout",
     "output_type": "stream",
     "text": [
      "1000000000000.0 10 1 None [0.00000000e+00 3.00000000e-03 3.14211269e-03 3.29095739e-03\n",
      " 3.44685300e-03 3.61013352e-03 3.78114879e-03 3.96026520e-03\n",
      " 4.14786652e-03 4.34435468e-03 4.55015067e-03 4.76569539e-03\n",
      " 4.99145066e-03 5.22790016e-03 5.47555048e-03 5.73493223e-03\n",
      " 6.00660112e-03 6.29113920e-03 6.58915612e-03 6.90129036e-03\n",
      " 7.22821068e-03 7.57061751e-03 7.92924446e-03 8.30485989e-03\n",
      " 8.69826856e-03 9.11031335e-03 9.54187708e-03 9.99388436e-03\n",
      " 1.04673036e-02 1.09631492e-02 1.14824834e-02 1.20264190e-02\n",
      " 1.25961213e-02 1.31928108e-02 1.38177661e-02 1.44723261e-02\n",
      " 1.51578932e-02 1.58759362e-02 1.66279936e-02 1.74156765e-02\n",
      " 1.82406728e-02 1.91047498e-02 2.00097590e-02 2.09576392e-02\n",
      " 2.19504214e-02 2.29902326e-02 2.40793006e-02 2.52199587e-02\n",
      " 2.64146507e-02 2.76659365e-02 2.89764967e-02 3.03491394e-02\n",
      " 3.17868054e-02 3.32925749e-02 3.48696741e-02 3.65214818e-02\n",
      " 3.82515372e-02 4.00635469e-02 4.19613931e-02 4.39491419e-02\n",
      " 4.60310523e-02 4.82115845e-02 5.04954106e-02 5.28874235e-02\n",
      " 5.53927483e-02 5.80167525e-02 6.07650582e-02 6.36435535e-02\n",
      " 6.66584058e-02 6.98160744e-02 7.31233245e-02 7.65872420e-02\n",
      " 8.02152485e-02 8.40151168e-02 8.79949884e-02 9.21633900e-02\n",
      " 9.65292525e-02 1.01101930e-01 1.05891219e-01 1.10907381e-01\n",
      " 1.16161163e-01 1.21663822e-01 1.27427147e-01 1.33463485e-01\n",
      " 1.39785770e-01 1.46407548e-01 1.53343005e-01 1.60607000e-01\n",
      " 1.68215098e-01 1.76183598e-01 1.84529574e-01 1.93270905e-01\n",
      " 2.02426322e-01 2.12015438e-01 2.22058800e-01 2.32577925e-01\n",
      " 2.43595350e-01 2.55134680e-01 2.67220639e-01 2.79879121e-01\n",
      " 2.93137246e-01 3.07023421e-01 3.21567396e-01 3.36800332e-01\n",
      " 3.52754866e-01 3.69465181e-01 3.86967078e-01 4.05298056e-01\n",
      " 4.24497389e-01 4.44606212e-01 4.65667607e-01 4.87726700e-01\n",
      " 5.10830752e-01 5.35029263e-01 5.60374080e-01 5.86919503e-01\n",
      " 6.14722407e-01 6.43842359e-01 6.74341750e-01 7.06285924e-01\n",
      " 7.39743323e-01 7.74785628e-01 8.11487919e-01 8.49928831e-01\n",
      " 8.90190722e-01 9.32359856e-01 9.76526580e-01 1.02278552e+00\n",
      " 1.07123579e+00 1.12198119e+00 1.17513045e+00 1.23079743e+00\n",
      " 1.28910141e+00 1.35016730e+00 1.41412594e+00 1.48111436e+00\n",
      " 1.55127607e+00 1.62476141e+00 1.70172782e+00 1.78234020e+00\n",
      " 1.86677125e+00 1.95520188e+00 2.04782155e+00 2.14482870e+00\n",
      " 2.24643116e+00 2.35284662e+00 2.46430308e+00 2.58103933e+00\n",
      " 2.70330548e+00 2.83136348e+00 2.96548771e+00 3.10596553e+00\n",
      " 3.25309791e+00 3.40720008e+00 3.56860220e+00 3.73765009e+00\n",
      " 3.91470593e+00 4.10014907e+00 4.29437681e+00 4.49780530e+00\n",
      " 4.71087037e+00 4.93402853e+00 5.16775790e+00 5.41255923e+00\n",
      " 5.66895702e+00 5.93750060e+00 6.21876534e+00 6.51335384e+00\n",
      " 6.82189726e+00 7.14505666e+00 7.48352441e+00 7.83802568e+00\n",
      " 8.20931999e+00 8.59820285e+00 9.00550744e+00 9.43210641e+00\n",
      " 9.87891377e+00 1.03468868e+01 1.08370281e+01 1.13503879e+01\n",
      " 1.18880659e+01 1.24512143e+01 1.30410395e+01 1.36588052e+01\n",
      " 1.43058351e+01 1.49835153e+01 1.56932979e+01 1.64367035e+01\n",
      " 1.72153249e+01 1.80308303e+01 1.88849670e+01 1.97795648e+01\n",
      " 2.07165406e+01 2.16979017e+01 2.27257508e+01 2.38022900e+01\n",
      " 2.49298258e+01 2.61107741e+01 2.73476649e+01 2.86431483e+01\n",
      " 3.00000000e+01]\n"
     ]
    }
   ],
   "source": [
    "print(data['M200'], data['c'], data['q0'], data['AC_prescription'], data['r_list'])"
   ]
  },
  {
   "cell_type": "code",
   "execution_count": null,
   "id": "9622d2bb",
   "metadata": {},
   "outputs": [],
   "source": []
  }
 ],
 "metadata": {
  "kernelspec": {
   "display_name": ".jeansenv",
   "language": "python",
   "name": "python3"
  },
  "language_info": {
   "codemirror_mode": {
    "name": "ipython",
    "version": 3
   },
   "file_extension": ".py",
   "mimetype": "text/x-python",
   "name": "python",
   "nbconvert_exporter": "python",
   "pygments_lexer": "ipython3",
   "version": "3.13.7"
  }
 },
 "nbformat": 4,
 "nbformat_minor": 5
}
