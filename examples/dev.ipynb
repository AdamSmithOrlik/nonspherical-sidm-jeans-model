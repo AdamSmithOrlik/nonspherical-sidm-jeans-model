{
 "cells": [
  {
   "cell_type": "code",
   "execution_count": 1,
   "id": "31898b6d",
   "metadata": {},
   "outputs": [],
   "source": [
    "import sidmhalo\n",
    "from sidmhalo.classes import load_profile\n",
    "import os\n",
    "\n",
    "import numpy as np"
   ]
  },
  {
   "cell_type": "markdown",
   "id": "625b9d84",
   "metadata": {},
   "source": [
    "# test the saving and loading functionality "
   ]
  },
  {
   "cell_type": "markdown",
   "id": "468b05c1",
   "metadata": {},
   "source": [
    "## basic test "
   ]
  },
  {
   "cell_type": "code",
   "execution_count": 2,
   "id": "6e10d426",
   "metadata": {},
   "outputs": [],
   "source": [
    "rm = 30 # radius of isothermal core, kpc\n",
    "M200 = 1e12 # virial mass, Msun\n",
    "R200 = 200 # virial radius, kpc\n",
    "c = 10 # concentration, dimensionless\n",
    "q_sph = 1 # spherical axis ratio, dimensionless\n",
    "Phi_b = None # baryon potential, Msun/kpc^2\n",
    "\n",
    "profile = sidmhalo.gen.squashed(rm, M200, c, q0=q_sph, Phi_b=Phi_b)"
   ]
  },
  {
   "cell_type": "code",
   "execution_count": 3,
   "id": "7d54f8a6",
   "metadata": {},
   "outputs": [
    {
     "name": "stdout",
     "output_type": "stream",
     "text": [
      "[DEBUG] Saving named function: Phi_b_out, signature: (r)\n",
      "[DEBUG] Saving named function: no_baryons, signature: (r)\n",
      "[DEBUG] Saving named function: q_eff, signature: (r)\n"
     ]
    }
   ],
   "source": [
    "filename = 'data/test_profile.npz'\n",
    "\n",
    "profile.save(filename)"
   ]
  },
  {
   "cell_type": "code",
   "execution_count": 4,
   "id": "d0809644",
   "metadata": {},
   "outputs": [
    {
     "name": "stdout",
     "output_type": "stream",
     "text": [
      "[DEBUG] Loaded named function: no_baryons, signature: (r)\n"
     ]
    }
   ],
   "source": [
    "# loading the profile\n",
    "lprofile = load_profile(filename)"
   ]
  },
  {
   "cell_type": "code",
   "execution_count": 8,
   "id": "85531a86",
   "metadata": {},
   "outputs": [
    {
     "data": {
      "text/plain": [
       "36731.99447813377"
      ]
     },
     "execution_count": 8,
     "metadata": {},
     "output_type": "execute_result"
    }
   ],
   "source": [
    "lprofile.rho_sph_avg(100)"
   ]
  },
  {
   "cell_type": "code",
   "execution_count": 7,
   "id": "1324cad3",
   "metadata": {},
   "outputs": [
    {
     "data": {
      "text/plain": [
       "sidmhalo.classes.profile"
      ]
     },
     "execution_count": 7,
     "metadata": {},
     "output_type": "execute_result"
    }
   ],
   "source": [
    "type(lprofile)"
   ]
  },
  {
   "cell_type": "code",
   "execution_count": 10,
   "id": "a0c95258",
   "metadata": {},
   "outputs": [
    {
     "data": {
      "text/plain": [
       "np.float64(30.0)"
      ]
     },
     "execution_count": 10,
     "metadata": {},
     "output_type": "execute_result"
    }
   ],
   "source": [
    "lprofile.r1"
   ]
  },
  {
   "cell_type": "markdown",
   "id": "9d7c072c",
   "metadata": {},
   "source": [
    "## test with baryon function "
   ]
  },
  {
   "cell_type": "code",
   "execution_count": 2,
   "id": "4b26db7f",
   "metadata": {},
   "outputs": [],
   "source": [
    "from sidmhalo.definitions import GN"
   ]
  },
  {
   "cell_type": "code",
   "execution_count": 3,
   "id": "9622d2bb",
   "metadata": {},
   "outputs": [
    {
     "name": "stdout",
     "output_type": "stream",
     "text": [
      "Profile generated successfully\n"
     ]
    }
   ],
   "source": [
    "rm = 30 # radius of isothermal core, kpc\n",
    "M200 = 1e12 # virial mass, Msun\n",
    "R200 = 200 # virial radius, kpc\n",
    "c = 10 # concentration, dimensionless\n",
    "q_sph = 1 # spherical axis ratio, dimensionless\n",
    "\n",
    "def Phi_b(r, th):\n",
    "    Md = 6.4e10\n",
    "    a = 3.5\n",
    "    b = 0.53\n",
    "    return -GN*Md/np.sqrt(r**2 * np.sin(th)**2 + (a + np.sqrt(b**2 + r**2 * np.cos(th)**2))**2)\n",
    "\n",
    "profile = sidmhalo.gen.squashed(rm, M200, c, q0=q_sph, Phi_b=Phi_b)\n",
    "\n",
    "if profile:\n",
    "    print(\"Profile generated successfully\")"
   ]
  },
  {
   "cell_type": "code",
   "execution_count": 4,
   "id": "8e9eb574",
   "metadata": {},
   "outputs": [
    {
     "data": {
      "text/plain": [
       "np.float64(-59443.38503988109)"
      ]
     },
     "execution_count": 4,
     "metadata": {},
     "output_type": "execute_result"
    }
   ],
   "source": [
    "Phi_b(1,0)"
   ]
  },
  {
   "cell_type": "code",
   "execution_count": 5,
   "id": "7976cc0d",
   "metadata": {},
   "outputs": [
    {
     "data": {
      "text/plain": [
       "np.float64(-59443.38503988109)"
      ]
     },
     "execution_count": 5,
     "metadata": {},
     "output_type": "execute_result"
    }
   ],
   "source": [
    "profile.outer.Phi_b(1,0)  # potential at (R,z) = (8,0) kpc"
   ]
  },
  {
   "cell_type": "code",
   "execution_count": 6,
   "id": "f54c161c",
   "metadata": {},
   "outputs": [],
   "source": [
    "filename = \"test_profile_w_baryons.npz\"\n",
    "profile.save(filename) "
   ]
  },
  {
   "cell_type": "code",
   "execution_count": 7,
   "id": "81b3ec84",
   "metadata": {},
   "outputs": [],
   "source": [
    "lprofile = load_profile(filename)"
   ]
  },
  {
   "cell_type": "code",
   "execution_count": 8,
   "id": "f5c3a834",
   "metadata": {},
   "outputs": [
    {
     "name": "stdout",
     "output_type": "stream",
     "text": [
      "Before save Phi_b(1,0): -59443.38503988109, and after the save Phi_b(1,0): -59443.38503988109\n",
      "Before save Phi_b(1): -63497.85674532449, and after the save Phi_b(1,0): 0\n",
      "Before save q(1): 0.49711458991388163, and after the save q(1): 1\n"
     ]
    }
   ],
   "source": [
    "print(f'Before save Phi_b(1,0): {profile.outer.Phi_b(1,0)}, and after the save Phi_b(1,0): {lprofile.outer.Phi_b(1,0)}') \n",
    "print(f'Before save Phi_b(1): {profile.inner.Phi_b(1)}, and after the save Phi_b(1,0): {lprofile.inner.Phi_b(1)}') \n",
    "print(f'Before save q(1): {profile.q(1)}, and after the save q(1): {lprofile.q(1)}') "
   ]
  },
  {
   "cell_type": "code",
   "execution_count": 19,
   "id": "cea86f70",
   "metadata": {},
   "outputs": [
    {
     "name": "stdout",
     "output_type": "stream",
     "text": [
      "Before M200: 1000000000000.0, and after M200: 1000000000000.0\n"
     ]
    }
   ],
   "source": [
    "print(f'Before M200: {profile.outer.M200}, and after M200: {lprofile.outer.M200}')"
   ]
  },
  {
   "cell_type": "code",
   "execution_count": 11,
   "id": "06950bea",
   "metadata": {},
   "outputs": [
    {
     "data": {
      "text/plain": [
       "-63497.85674532449"
      ]
     },
     "execution_count": 11,
     "metadata": {},
     "output_type": "execute_result"
    }
   ],
   "source": [
    "profile.inner.Phi_b(1)"
   ]
  },
  {
   "cell_type": "code",
   "execution_count": 22,
   "id": "70a5cb73",
   "metadata": {},
   "outputs": [],
   "source": [
    "import inspect"
   ]
  },
  {
   "cell_type": "code",
   "execution_count": 26,
   "id": "6a07c75b",
   "metadata": {},
   "outputs": [
    {
     "data": {
      "text/plain": [
       "<Signature (r)>"
      ]
     },
     "execution_count": 26,
     "metadata": {},
     "output_type": "execute_result"
    }
   ],
   "source": [
    "inspect.signature(profile.inner.Phi_b)"
   ]
  },
  {
   "cell_type": "code",
   "execution_count": 25,
   "id": "6d2d405a",
   "metadata": {},
   "outputs": [
    {
     "data": {
      "text/plain": [
       "<Signature (r)>"
      ]
     },
     "execution_count": 25,
     "metadata": {},
     "output_type": "execute_result"
    }
   ],
   "source": [
    "inspect.signature(lprofile.inner.Phi_b)"
   ]
  },
  {
   "cell_type": "code",
   "execution_count": null,
   "id": "18193daf",
   "metadata": {},
   "outputs": [],
   "source": []
  }
 ],
 "metadata": {
  "kernelspec": {
   "display_name": ".jeansenv",
   "language": "python",
   "name": "python3"
  },
  "language_info": {
   "codemirror_mode": {
    "name": "ipython",
    "version": 3
   },
   "file_extension": ".py",
   "mimetype": "text/x-python",
   "name": "python",
   "nbconvert_exporter": "python",
   "pygments_lexer": "ipython3",
   "version": "3.13.7"
  }
 },
 "nbformat": 4,
 "nbformat_minor": 5
}
