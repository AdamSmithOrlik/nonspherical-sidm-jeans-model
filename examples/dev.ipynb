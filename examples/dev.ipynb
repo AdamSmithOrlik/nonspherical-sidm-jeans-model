{
 "cells": [
  {
   "cell_type": "code",
   "execution_count": 1,
   "id": "514087c8",
   "metadata": {},
   "outputs": [],
   "source": [
    "import jeans \n",
    "import numpy as np"
   ]
  },
  {
   "cell_type": "code",
   "execution_count": null,
   "id": "26e81ea2",
   "metadata": {},
   "outputs": [
    {
     "ename": "ValueError",
     "evalue": "not enough values to unpack (expected 3, got 2)",
     "output_type": "error",
     "traceback": [
      "\u001b[31m---------------------------------------------------------------------------\u001b[39m",
      "\u001b[31mValueError\u001b[39m                                Traceback (most recent call last)",
      "\u001b[36mCell\u001b[39m\u001b[36m \u001b[39m\u001b[32mIn[4]\u001b[39m\u001b[32m, line 19\u001b[39m\n\u001b[32m     15\u001b[39m     b = \u001b[32m0.53\u001b[39m\n\u001b[32m     16\u001b[39m     \u001b[38;5;28;01mreturn\u001b[39;00m -GN*Md/np.sqrt(r**\u001b[32m2\u001b[39m * np.sin(th)**\u001b[32m2\u001b[39m + (a + np.sqrt(b**\u001b[32m2\u001b[39m + r**\u001b[32m2\u001b[39m * np.cos(th)**\u001b[32m2\u001b[39m))**\u001b[32m2\u001b[39m)\n\u001b[32m---> \u001b[39m\u001b[32m19\u001b[39m profile = \u001b[43mjeans\u001b[49m\u001b[43m.\u001b[49m\u001b[43msquashed\u001b[49m\u001b[43m(\u001b[49m\u001b[43mrm\u001b[49m\u001b[43m,\u001b[49m\u001b[43m \u001b[49m\u001b[43mM200\u001b[49m\u001b[43m,\u001b[49m\u001b[43m \u001b[49m\u001b[43mc\u001b[49m\u001b[43m,\u001b[49m\u001b[43m \u001b[49m\u001b[43malpha\u001b[49m\u001b[43m=\u001b[49m\u001b[32;43m0.2\u001b[39;49m\u001b[43m,\u001b[49m\u001b[43mq0\u001b[49m\u001b[43m=\u001b[49m\u001b[43mq0\u001b[49m\u001b[43m,\u001b[49m\u001b[43m \u001b[49m\u001b[43mPhi_b\u001b[49m\u001b[43m=\u001b[49m\u001b[43mPhi_b\u001b[49m\u001b[43m)\u001b[49m\n\u001b[32m     21\u001b[39m \u001b[38;5;28;01mif\u001b[39;00m profile:\n\u001b[32m     22\u001b[39m     \u001b[38;5;28mprint\u001b[39m(\u001b[33m\"\u001b[39m\u001b[33mProfile generated successfully\u001b[39m\u001b[33m\"\u001b[39m)\n",
      "\u001b[36mFile \u001b[39m\u001b[32m~/Desktop/github-projects/nonspherical-sidm-jeans-model/src/jeans/gen.py:63\u001b[39m, in \u001b[36msquashed\u001b[39m\u001b[34m(r1, q0, Phi_b, q_mode, *outer_halo_params, **kwargs)\u001b[39m\n\u001b[32m     56\u001b[39m     \u001b[38;5;28;01mreturn\u001b[39;00m cdm(*outer_halo_params, q0=q0, Phi_b=Phi_b, **kwargs)\n\u001b[32m     58\u001b[39m \u001b[38;5;66;03m# Squashed Jeans profile\u001b[39;00m\n\u001b[32m     59\u001b[39m \u001b[38;5;66;03m# Start with spherical profiles\u001b[39;00m\n\u001b[32m     60\u001b[39m \u001b[38;5;28;01melse\u001b[39;00m:\n\u001b[32m     61\u001b[39m \n\u001b[32m     62\u001b[39m     \u001b[38;5;66;03m# CDM outer profile (spherical)\u001b[39;00m\n\u001b[32m---> \u001b[39m\u001b[32m63\u001b[39m     outer_halo = \u001b[43mCDM_profile\u001b[49m\u001b[43m(\u001b[49m\u001b[43m*\u001b[49m\u001b[43mouter_halo_params\u001b[49m\u001b[43m,\u001b[49m\u001b[43m \u001b[49m\u001b[43mq0\u001b[49m\u001b[43m=\u001b[49m\u001b[32;43m1\u001b[39;49m\u001b[43m,\u001b[49m\u001b[43m \u001b[49m\u001b[43mPhi_b\u001b[49m\u001b[43m=\u001b[49m\u001b[43mPhi_b\u001b[49m\u001b[43m,\u001b[49m\u001b[43m \u001b[49m\u001b[43m*\u001b[49m\u001b[43m*\u001b[49m\u001b[43mkwargs\u001b[49m\u001b[43m)\u001b[49m\n\u001b[32m     65\u001b[39m     \u001b[38;5;66;03m# Compute spherically averaged potential from enclosed mass profile (computed within outer_halo)\u001b[39;00m\n\u001b[32m     66\u001b[39m     Phi_b_sph = tools.compute_Phi_b_spherical(\n\u001b[32m     67\u001b[39m         outer_halo.M_b, \u001b[32m1e-6\u001b[39m * outer_halo.r200, outer_halo.r200\n\u001b[32m     68\u001b[39m     )\n",
      "\u001b[36mFile \u001b[39m\u001b[32m~/Desktop/github-projects/nonspherical-sidm-jeans-model/src/jeans/classes.py:1541\u001b[39m, in \u001b[36mCDM_profile.__init__\u001b[39m\u001b[34m(self, q0, alpha, M_b, Phi_b, AC_prescription, Gnedin_params, input_NFW, *inputs, **extraneous)\u001b[39m\n\u001b[32m   1539\u001b[39m \u001b[38;5;66;03m# Assume input M200, c, alpha\u001b[39;00m\n\u001b[32m   1540\u001b[39m \u001b[38;5;28;01melif\u001b[39;00m (\u001b[38;5;129;01mnot\u001b[39;00m input_NFW) \u001b[38;5;129;01mand\u001b[39;00m (alpha):\n\u001b[32m-> \u001b[39m\u001b[32m1541\u001b[39m     \u001b[38;5;28mself\u001b[39m.M200, \u001b[38;5;28mself\u001b[39m.c, \u001b[38;5;28mself\u001b[39m.alpha = inputs, alpha\n\u001b[32m   1542\u001b[39m     \u001b[38;5;28mself\u001b[39m.rhos, \u001b[38;5;28mself\u001b[39m.rs, \u001b[38;5;28mself\u001b[39m.r200 = mass_concentration_to_NFW_parameters(inputs)\n\u001b[32m   1543\u001b[39m \u001b[38;5;28;01melse\u001b[39;00m:\n",
      "\u001b[31mValueError\u001b[39m: not enough values to unpack (expected 3, got 2)"
     ]
    }
   ],
   "source": [
    "import jeans \n",
    "import numpy as np\n",
    "\n",
    "M200 = 1e12 # virial mass, Msun\n",
    "R200 = 200 # virial radius, kpc\n",
    "c = 10 # concentration, dimensionless\n",
    "q0 = 0.8\n",
    "rm = 10\n",
    "GN = 4.302e-6 # gravitational constant in kpc (km/s)^2 Msun^-1\n",
    "\n",
    "# Example baryonic potential: Miyamoto-Nagai disk\n",
    "def Phi_b(r, th):\n",
    "    Md = 6.4e10\n",
    "    a = 3.5\n",
    "    b = 0.53\n",
    "    return -GN*Md/np.sqrt(r**2 * np.sin(th)**2 + (a + np.sqrt(b**2 + r**2 * np.cos(th)**2))**2)\n",
    "\n",
    "\n",
    "profile = jeans.squashed(rm, M200, c, alpha=0.2, q0=q0, Phi_b=Phi_b)\n",
    "\n",
    "if profile:\n",
    "    print(\"Profile generated successfully\")"
   ]
  },
  {
   "cell_type": "code",
   "execution_count": 3,
   "id": "e749578d",
   "metadata": {},
   "outputs": [
    {
     "data": {
      "text/plain": [
       "'NFW'"
      ]
     },
     "execution_count": 3,
     "metadata": {},
     "output_type": "execute_result"
    }
   ],
   "source": [
    "profile.outer.halo_type"
   ]
  },
  {
   "cell_type": "code",
   "execution_count": 10,
   "id": "769de7c6",
   "metadata": {},
   "outputs": [
    {
     "name": "stdout",
     "output_type": "stream",
     "text": [
      "a:1, b:3, c:2\n"
     ]
    },
    {
     "data": {
      "text/plain": [
       "6"
      ]
     },
     "execution_count": 10,
     "metadata": {},
     "output_type": "execute_result"
    }
   ],
   "source": [
    "def test(a, b=1, c=1):\n",
    "    print(f'a:{a}, b:{b}, c:{c}')\n",
    "    return a + b + c\n",
    "\n",
    "test(1,3,2)"
   ]
  },
  {
   "cell_type": "code",
   "execution_count": 16,
   "id": "eb227316",
   "metadata": {},
   "outputs": [
    {
     "name": "stdout",
     "output_type": "stream",
     "text": [
      "2025_09_24_14_48_54\n"
     ]
    }
   ],
   "source": [
    "import datetime as dt \n",
    "\n",
    "now = dt.datetime.now()\n",
    "print(now.strftime(\"%Y_%m_%d_%H_%M_%S\"))"
   ]
  },
  {
   "cell_type": "code",
   "execution_count": 18,
   "id": "93b8ea50",
   "metadata": {},
   "outputs": [
    {
     "name": "stdout",
     "output_type": "stream",
     "text": [
      "Check is True\n"
     ]
    }
   ],
   "source": [
    "check = 1.2\n",
    "\n",
    "if check:\n",
    "    print(\"Check is True\")"
   ]
  },
  {
   "cell_type": "code",
   "execution_count": 6,
   "id": "8495c39b",
   "metadata": {},
   "outputs": [
    {
     "data": {
      "text/plain": [
       "'NFW'"
      ]
     },
     "execution_count": 6,
     "metadata": {},
     "output_type": "execute_result"
    }
   ],
   "source": [
    "profile.outer.halo_type"
   ]
  },
  {
   "cell_type": "code",
   "execution_count": 7,
   "id": "d8cf665c",
   "metadata": {},
   "outputs": [],
   "source": [
    "filename = \"example_profile.npz\"\n",
    "profile.save(filename)"
   ]
  },
  {
   "cell_type": "code",
   "execution_count": 8,
   "id": "3d975662",
   "metadata": {},
   "outputs": [],
   "source": [
    "from jeans.classes import load_profile"
   ]
  },
  {
   "cell_type": "code",
   "execution_count": 9,
   "id": "2a42296d",
   "metadata": {},
   "outputs": [],
   "source": [
    "new_profile = load_profile(filename)"
   ]
  },
  {
   "cell_type": "code",
   "execution_count": 10,
   "id": "99f3a35d",
   "metadata": {},
   "outputs": [
    {
     "data": {
      "text/plain": [
       "np.float64(5843565.990419926)"
      ]
     },
     "execution_count": 10,
     "metadata": {},
     "output_type": "execute_result"
    }
   ],
   "source": [
    "new_profile.rho_sph_avg(10)"
   ]
  },
  {
   "cell_type": "code",
   "execution_count": 11,
   "id": "4b3ac415",
   "metadata": {},
   "outputs": [
    {
     "name": "stdout",
     "output_type": "stream",
     "text": [
      "Profile generated successfully\n"
     ]
    }
   ],
   "source": [
    "alpha = 0.17\n",
    "\n",
    "profile = jeans.squashed(rm, M200, c, alpha, q0=q_sph, Phi_b=Phi_b)\n",
    "\n",
    "if profile:\n",
    "    print(\"Profile generated successfully\")"
   ]
  },
  {
   "cell_type": "code",
   "execution_count": 12,
   "id": "4bf82018",
   "metadata": {},
   "outputs": [
    {
     "data": {
      "text/plain": [
       "'Einasto'"
      ]
     },
     "execution_count": 12,
     "metadata": {},
     "output_type": "execute_result"
    }
   ],
   "source": [
    "profile.outer.halo_type"
   ]
  },
  {
   "cell_type": "code",
   "execution_count": null,
   "id": "d24f8621",
   "metadata": {},
   "outputs": [],
   "source": []
  }
 ],
 "metadata": {
  "kernelspec": {
   "display_name": ".jeansenv",
   "language": "python",
   "name": "python3"
  },
  "language_info": {
   "codemirror_mode": {
    "name": "ipython",
    "version": 3
   },
   "file_extension": ".py",
   "mimetype": "text/x-python",
   "name": "python",
   "nbconvert_exporter": "python",
   "pygments_lexer": "ipython3",
   "version": "3.13.7"
  }
 },
 "nbformat": 4,
 "nbformat_minor": 5
}
