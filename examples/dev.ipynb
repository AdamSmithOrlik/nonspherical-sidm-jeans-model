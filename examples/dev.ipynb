{
 "cells": [
  {
   "cell_type": "code",
   "execution_count": 1,
   "id": "514087c8",
   "metadata": {},
   "outputs": [],
   "source": [
    "import jeans \n",
    "import numpy as np"
   ]
  },
  {
   "cell_type": "code",
   "execution_count": 5,
   "id": "26e81ea2",
   "metadata": {},
   "outputs": [
    {
     "name": "stdout",
     "output_type": "stream",
     "text": [
      "Profile generated successfully\n"
     ]
    }
   ],
   "source": [
    "M200 = 1e12 # virial mass, Msun\n",
    "R200 = 200 # virial radius, kpc\n",
    "c = 10 # concentration, dimensionless\n",
    "q_sph = 1 # spherical axis ratio, dimensionless\n",
    "Phi_b = None # baryon potential, Msun/kpc^2\n",
    "rm = 30\n",
    "\n",
    "profile = jeans.spherical(rm, M200, c, Phi_b=Phi_b)\n",
    "\n",
    "if profile:\n",
    "    print(\"Profile generated successfully\")"
   ]
  },
  {
   "cell_type": "code",
   "execution_count": 6,
   "id": "8495c39b",
   "metadata": {},
   "outputs": [
    {
     "data": {
      "text/plain": [
       "'NFW'"
      ]
     },
     "execution_count": 6,
     "metadata": {},
     "output_type": "execute_result"
    }
   ],
   "source": [
    "profile.outer.halo_type"
   ]
  },
  {
   "cell_type": "code",
   "execution_count": 7,
   "id": "d8cf665c",
   "metadata": {},
   "outputs": [],
   "source": [
    "filename = \"example_profile.npz\"\n",
    "profile.save(filename)"
   ]
  },
  {
   "cell_type": "code",
   "execution_count": 8,
   "id": "3d975662",
   "metadata": {},
   "outputs": [],
   "source": [
    "from jeans.classes import load_profile"
   ]
  },
  {
   "cell_type": "code",
   "execution_count": 9,
   "id": "2a42296d",
   "metadata": {},
   "outputs": [],
   "source": [
    "new_profile = load_profile(filename)"
   ]
  },
  {
   "cell_type": "code",
   "execution_count": 10,
   "id": "99f3a35d",
   "metadata": {},
   "outputs": [
    {
     "data": {
      "text/plain": [
       "np.float64(5843565.990419926)"
      ]
     },
     "execution_count": 10,
     "metadata": {},
     "output_type": "execute_result"
    }
   ],
   "source": [
    "new_profile.rho_sph_avg(10)"
   ]
  },
  {
   "cell_type": "code",
   "execution_count": 11,
   "id": "4b3ac415",
   "metadata": {},
   "outputs": [
    {
     "name": "stdout",
     "output_type": "stream",
     "text": [
      "Profile generated successfully\n"
     ]
    }
   ],
   "source": [
    "alpha = 0.17\n",
    "\n",
    "profile = jeans.squashed(rm, M200, c, alpha, q0=q_sph, Phi_b=Phi_b)\n",
    "\n",
    "if profile:\n",
    "    print(\"Profile generated successfully\")"
   ]
  },
  {
   "cell_type": "code",
   "execution_count": 12,
   "id": "4bf82018",
   "metadata": {},
   "outputs": [
    {
     "data": {
      "text/plain": [
       "'Einasto'"
      ]
     },
     "execution_count": 12,
     "metadata": {},
     "output_type": "execute_result"
    }
   ],
   "source": [
    "profile.outer.halo_type"
   ]
  },
  {
   "cell_type": "code",
   "execution_count": null,
   "id": "d24f8621",
   "metadata": {},
   "outputs": [],
   "source": []
  }
 ],
 "metadata": {
  "kernelspec": {
   "display_name": "physenv",
   "language": "python",
   "name": "python3"
  },
  "language_info": {
   "codemirror_mode": {
    "name": "ipython",
    "version": 3
   },
   "file_extension": ".py",
   "mimetype": "text/x-python",
   "name": "python",
   "nbconvert_exporter": "python",
   "pygments_lexer": "ipython3",
   "version": "3.12.5"
  }
 },
 "nbformat": 4,
 "nbformat_minor": 5
}
