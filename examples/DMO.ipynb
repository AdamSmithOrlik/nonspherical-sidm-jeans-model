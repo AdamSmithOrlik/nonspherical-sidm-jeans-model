{
 "cells": [
  {
   "cell_type": "markdown",
   "metadata": {},
   "source": [
    "# Import"
   ]
  },
  {
   "cell_type": "code",
   "execution_count": 1,
   "metadata": {},
   "outputs": [],
   "source": [
    "# importing the sidmhalo package\n",
    "import sidmhalo\n",
    "\n",
    "# tools for plotting\n",
    "import matplotlib.pyplot as plt\n",
    "import numpy as np"
   ]
  },
  {
   "cell_type": "markdown",
   "metadata": {},
   "source": [
    "# CDM-Only Halos"
   ]
  },
  {
   "cell_type": "markdown",
   "metadata": {},
   "source": [
    "The sidmhalo package generates a CDM for the spherical or nonspherical cases. Below are examples of how to generate (i) a spherical CDM halo, and (ii) a nonspherical CDM halo with constant halo shape and (iii) a nonspherical CDM halo with radially-dependent shape."
   ]
  },
  {
   "cell_type": "code",
   "execution_count": 2,
   "metadata": {},
   "outputs": [
    {
     "name": "stdout",
     "output_type": "stream",
     "text": [
      "Spherical CDM profile generated successfully.\n",
      "Nonspherical CDM profile generated successfully.\n",
      "Nonspherical CDM profile with non-constant axis ratio generated successfully.\n"
     ]
    }
   ],
   "source": [
    "M200 = 1e12 # virial mass, Msun\n",
    "R200 = 200 # virial radius, kpc\n",
    "c = 10 # concentration, dimensionless\n",
    "q_sph = 1 # spherical axis ratio, dimensionless\n",
    "Phi_b = None # baryon potential, Msun/kpc^2\n",
    "\n",
    "spherical_cdm_profile = sidmhalo.gen.cdm(M200, c, q0=q_sph, Phi_b=Phi_b)\n",
    "\n",
    "if spherical_cdm_profile:\n",
    "    print(\"Spherical CDM profile generated successfully.\")\n",
    "else:\n",
    "    print(\"Failed to generate spherical CDM profile.\")\n",
    "\n",
    "q_nsph = 0.8\n",
    "\n",
    "nonspherical_cdm_profile = sidmhalo.gen.cdm(M200, c, q0=q_nsph, Phi_b=Phi_b)\n",
    "\n",
    "if nonspherical_cdm_profile:\n",
    "    print(\"Nonspherical CDM profile generated successfully.\")\n",
    "else:\n",
    "    print(\"Failed to generate nonspherical CDM profile.\")\n",
    "\n",
    "alpha = 0.3\n",
    "q_func = lambda r: q_nsph * (r / R200)**alpha\n",
    "\n",
    "nonspherical_cdm_profile_nc = sidmhalo.gen.cdm(M200, c, q=q_func, Phi_b=Phi_b)\n",
    "\n",
    "if nonspherical_cdm_profile_nc:\n",
    "    print(\"Nonspherical CDM profile with non-constant axis ratio generated successfully.\")\n",
    "else:\n",
    "    print(\"Failed to generate nonspherical CDM profile with non-constant axis ratio.\")\n"
   ]
  },
  {
   "cell_type": "markdown",
   "metadata": {},
   "source": [
    "Plotting the results for CDM-only halos"
   ]
  },
  {
   "cell_type": "code",
   "execution_count": 13,
   "metadata": {},
   "outputs": [
    {
     "ename": "IndexError",
     "evalue": "list index out of range",
     "output_type": "error",
     "traceback": [
      "\u001b[31m---------------------------------------------------------------------------\u001b[39m",
      "\u001b[31mIndexError\u001b[39m                                Traceback (most recent call last)",
      "\u001b[36mCell\u001b[39m\u001b[36m \u001b[39m\u001b[32mIn[13]\u001b[39m\u001b[32m, line 31\u001b[39m\n\u001b[32m     29\u001b[39m r = np.linspace(\u001b[32m1\u001b[39m,\u001b[32m30\u001b[39m,num=\u001b[32m100\u001b[39m)\n\u001b[32m     30\u001b[39m plt.figure(figsize=(\u001b[32m8\u001b[39m, \u001b[32m6\u001b[39m))\n\u001b[32m---> \u001b[39m\u001b[32m31\u001b[39m plt.plot(r, \u001b[43mspherical_cdm_profile\u001b[49m\u001b[43m.\u001b[49m\u001b[43mV\u001b[49m\u001b[43m(\u001b[49m\u001b[43mr\u001b[49m\u001b[43m)\u001b[49m, label=\u001b[33m'\u001b[39m\u001b[33mSpherical CDM\u001b[39m\u001b[33m'\u001b[39m, alpha=\u001b[32m0.6\u001b[39m, ls=\u001b[33m'\u001b[39m\u001b[33m-\u001b[39m\u001b[33m'\u001b[39m, lw=\u001b[32m2\u001b[39m)\n\u001b[32m     32\u001b[39m plt.plot(r, nonspherical_cdm_profile.V(r), label=\u001b[33m'\u001b[39m\u001b[33mNonspherical CDM\u001b[39m\u001b[33m'\u001b[39m, alpha=\u001b[32m0.6\u001b[39m, ls=\u001b[33m'\u001b[39m\u001b[33m--\u001b[39m\u001b[33m'\u001b[39m, lw=\u001b[32m2\u001b[39m)\n\u001b[32m     33\u001b[39m plt.plot(r, nonspherical_cdm_profile_nc.V(r), label=\u001b[33m'\u001b[39m\u001b[33mNonspherical CDM (nc)\u001b[39m\u001b[33m'\u001b[39m, alpha=\u001b[32m0.6\u001b[39m, ls=\u001b[33m'\u001b[39m\u001b[33m:\u001b[39m\u001b[33m'\u001b[39m, lw=\u001b[32m2\u001b[39m)\n",
      "\u001b[36mFile \u001b[39m\u001b[32m~/Desktop/github-projects/nonspherical-sidm-jeans-model/src/sidmhalo/classes.py:481\u001b[39m, in \u001b[36mprofile.V\u001b[39m\u001b[34m(self, r)\u001b[39m\n\u001b[32m    480\u001b[39m \u001b[38;5;28;01mdef\u001b[39;00m\u001b[38;5;250m \u001b[39m\u001b[34mV\u001b[39m(\u001b[38;5;28mself\u001b[39m,r):\n\u001b[32m--> \u001b[39m\u001b[32m481\u001b[39m     \u001b[38;5;28;01mreturn\u001b[39;00m np.sqrt(\u001b[38;5;28;43mself\u001b[39;49m\u001b[43m.\u001b[49m\u001b[43mVsq\u001b[49m\u001b[43m(\u001b[49m\u001b[43mr\u001b[49m\u001b[43m)\u001b[49m)\n",
      "\u001b[36mFile \u001b[39m\u001b[32m~/Desktop/github-projects/nonspherical-sidm-jeans-model/src/sidmhalo/classes.py:478\u001b[39m, in \u001b[36mprofile.Vsq\u001b[39m\u001b[34m(self, r)\u001b[39m\n\u001b[32m    477\u001b[39m \u001b[38;5;28;01mdef\u001b[39;00m\u001b[38;5;250m \u001b[39m\u001b[34mVsq\u001b[39m(\u001b[38;5;28mself\u001b[39m,r):\n\u001b[32m--> \u001b[39m\u001b[32m478\u001b[39m     \u001b[38;5;28;01mreturn\u001b[39;00m \u001b[38;5;28mself\u001b[39m.Vsq_baryon(r) + \u001b[38;5;28;43mself\u001b[39;49m\u001b[43m.\u001b[49m\u001b[43mVsq_dm\u001b[49m\u001b[43m(\u001b[49m\u001b[43mr\u001b[49m\u001b[43m)\u001b[49m\n",
      "\u001b[36mFile \u001b[39m\u001b[32m~/Desktop/github-projects/nonspherical-sidm-jeans-model/src/sidmhalo/classes.py:457\u001b[39m, in \u001b[36mprofile.Vsq_dm\u001b[39m\u001b[34m(self, r, Lmax, **kwargs)\u001b[39m\n\u001b[32m    455\u001b[39m \u001b[38;5;66;03m# Calculate LM mode contribution\u001b[39;00m\n\u001b[32m    456\u001b[39m Vsq_old = np.array(Vsq_tot)\n\u001b[32m--> \u001b[39m\u001b[32m457\u001b[39m Vsq_tot += \u001b[43mrotcurve\u001b[49m\u001b[43m.\u001b[49m\u001b[43mVsq_LM\u001b[49m\u001b[43m(\u001b[49m\u001b[43mrho_LM\u001b[49m\u001b[43m,\u001b[49m\u001b[43mr\u001b[49m\u001b[43m,\u001b[49m\u001b[43mL\u001b[49m\u001b[43m)\u001b[49m * Z(L,\u001b[32m0\u001b[39m,theta,\u001b[32m0\u001b[39m)\n\u001b[32m    459\u001b[39m \u001b[38;5;28;01mif\u001b[39;00m np.allclose(Vsq_tot, Vsq_old, rtol=\u001b[32m1e-3\u001b[39m, atol=\u001b[32m1e-3\u001b[39m):\n\u001b[32m    460\u001b[39m     \u001b[38;5;28;01mbreak\u001b[39;00m\n",
      "\u001b[36mFile \u001b[39m\u001b[32m~/Desktop/github-projects/nonspherical-sidm-jeans-model/src/sidmhalo/rotcurve.py:98\u001b[39m, in \u001b[36mVsq_LM\u001b[39m\u001b[34m(rho_LM, r, L, M)\u001b[39m\n\u001b[32m     96\u001b[39m \u001b[38;5;66;03m# Calculate integrals\u001b[39;00m\n\u001b[32m     97\u001b[39m solution = solve_ivp(integrand,[rmin,rmax],[\u001b[32m0\u001b[39m],rtol=\u001b[32m1e-6\u001b[39m,atol=\u001b[32m1e-6\u001b[39m,t_eval=r_eval)\n\u001b[32m---> \u001b[39m\u001b[32m98\u001b[39m G_vals = \u001b[43msolution\u001b[49m\u001b[43m.\u001b[49m\u001b[43my\u001b[49m\u001b[43m[\u001b[49m\u001b[32;43m0\u001b[39;49m\u001b[43m]\u001b[49m\n\u001b[32m    100\u001b[39m Vsq_out[r_arr > \u001b[32m0\u001b[39m] += prefactor * (L+\u001b[32m1\u001b[39m) / r_eval**(L+\u001b[32m1\u001b[39m) * G_vals\n\u001b[32m    102\u001b[39m \u001b[38;5;66;03m# Second term: only needed if L > 0\u001b[39;00m\n\u001b[32m    103\u001b[39m \u001b[38;5;66;03m# H(r) = int_r^inf x^(1-L) rho_LM(x) = - F(r) + H0\u001b[39;00m\n\u001b[32m    104\u001b[39m \u001b[38;5;66;03m# where F(r) = int_rmin^r x^(1-L) rho_LM(x)\u001b[39;00m\n\u001b[32m    105\u001b[39m \u001b[38;5;66;03m# and H0 = int_rmin^inf x^(1-L) rho_LM(x)\u001b[39;00m\n",
      "\u001b[31mIndexError\u001b[39m: list index out of range"
     ]
    },
    {
     "data": {
      "text/plain": [
       "<Figure size 800x600 with 0 Axes>"
      ]
     },
     "metadata": {},
     "output_type": "display_data"
    }
   ],
   "source": [
    "# 1D density profile \n",
    "# r = np.logspace(-1,3, num=1_000)\n",
    "\n",
    "# plt.figure(figsize=(8, 6))\n",
    "# plt.loglog(r, spherical_cdm_profile.rho_sph_avg(r), label='Spherical CDM', alpha=0.6, ls='-', lw=2)\n",
    "# plt.loglog(r, nonspherical_cdm_profile.rho_sph_avg(r), label='Nonspherical CDM', alpha=0.6, ls='--', lw=2)\n",
    "# plt.loglog(r, nonspherical_cdm_profile_nc.rho_sph_avg(r), label='Nonspherical CDM (nc)', alpha=0.6, ls=':', lw=2)\n",
    "# plt.xlabel('Radius (kpc)')\n",
    "# plt.ylabel('Density (Msun/kpc^3)')\n",
    "# plt.title('1D Density Profiles')\n",
    "# plt.legend()\n",
    "# plt.grid()\n",
    "# plt.show()\n",
    "# plt.clf()\n",
    "# Shape profiles\n",
    "# r = np.linspace(1,100, num=100)\n",
    "# plt.figure(figsize=(8, 6))\n",
    "# # plt.plot(r, spherical_cdm_profile.q_eff(r), label='Spherical CDM', alpha=0.6, ls='-', lw=2)\n",
    "# # plt.plot(r, nonspherical_cdm_profile.q_eff(r), label='Nonspherical CDM', alpha=0.6, ls='--', lw=2)\n",
    "# plt.plot(r, nonspherical_cdm_profile_nc.q_eff(r), label='Nonspherical CDM (nc)', alpha=0.6, ls=':', lw=2)\n",
    "# plt.xlabel('Radius (kpc)')\n",
    "# plt.ylabel('Axis Ratio (q)')\n",
    "# plt.title('Shape Profiles')\n",
    "# plt.legend()\n",
    "# plt.grid()\n",
    "# plt.show()\n",
    "# plt.clf()\n",
    "# Rotation curves\n",
    "r = np.linspace(1,30,num=100)\n",
    "plt.figure(figsize=(8, 6))\n",
    "plt.plot(r, spherical_cdm_profile.V(r), label='Spherical CDM', alpha=0.6, ls='-', lw=2)\n",
    "plt.plot(r, nonspherical_cdm_profile.V(r), label='Nonspherical CDM', alpha=0.6, ls='--', lw=2)\n",
    "plt.plot(r, nonspherical_cdm_profile_nc.V(r), label='Nonspherical CDM (nc)', alpha=0.6, ls=':', lw=2)\n",
    "plt.xlabel('Radius (kpc)')\n",
    "plt.ylabel('Rotation Velocity (km/s)')\n",
    "plt.title('Rotation Curves')\n",
    "plt.legend()\n",
    "plt.grid()\n",
    "plt.show()\n",
    "plt.clf()"
   ]
  },
  {
   "cell_type": "markdown",
   "metadata": {},
   "source": [
    "# SIDM Only Halos "
   ]
  },
  {
   "cell_type": "code",
   "execution_count": 3,
   "metadata": {},
   "outputs": [
    {
     "name": "stdout",
     "output_type": "stream",
     "text": [
      "Spherical SIDM profile generated successfully.\n",
      "Nonspherical SIDM profile generated successfully.\n",
      "Nonspherical SIDM profile with non-constant axis ratio generated successfully.\n"
     ]
    }
   ],
   "source": [
    "M200 = 1e12 # virial mass, Msun\n",
    "R200 = 200 # virial radius, kpc\n",
    "c = 10 # concentration, dimensionless\n",
    "q_sph = 1 # spherical axis ratio, dimensionless\n",
    "Phi_b = None # baryon potential, Msun/kpc^2\n",
    "rm = 30\n",
    "\n",
    "spherical_sidm_profile = sidmhalo.gen.squashed(rm, M200, c, q0=q_sph, Phi_b=Phi_b)\n",
    "\n",
    "if spherical_sidm_profile:\n",
    "    print(\"Spherical SIDM profile generated successfully.\")\n",
    "else:\n",
    "    print(\"Failed to generate spherical SIDM profile.\")\n",
    "\n",
    "q_nsph = 0.8\n",
    "\n",
    "nonspherical_sidm_profile = sidmhalo.gen.squashed(rm, M200, c, q0=q_nsph, Phi_b=Phi_b)\n",
    "\n",
    "if nonspherical_sidm_profile:\n",
    "    print(\"Nonspherical SIDM profile generated successfully.\")\n",
    "else:\n",
    "    print(\"Failed to generate nonspherical SIDM profile.\")\n",
    "\n",
    "alpha = 0.3\n",
    "q_func = lambda r: q_nsph * (r / R200)**alpha\n",
    "\n",
    "nonspherical_sidm_profile_nc = sidmhalo.gen.squashed(rm, M200, c, q=q_func, Phi_b=Phi_b)\n",
    "\n",
    "if nonspherical_sidm_profile_nc:\n",
    "    print(\"Nonspherical SIDM profile with non-constant axis ratio generated successfully.\")\n",
    "else:\n",
    "    print(\"Failed to generate nonspherical SIDM profile with non-constant axis ratio.\")"
   ]
  },
  {
   "cell_type": "code",
   "execution_count": 8,
   "metadata": {},
   "outputs": [
    {
     "ename": "ValueError",
     "evalue": "operands could not be broadcast together with shapes (100,) (99,) ",
     "output_type": "error",
     "traceback": [
      "\u001b[31m---------------------------------------------------------------------------\u001b[39m",
      "\u001b[31mValueError\u001b[39m                                Traceback (most recent call last)",
      "\u001b[36mCell\u001b[39m\u001b[36m \u001b[39m\u001b[32mIn[8]\u001b[39m\u001b[32m, line 30\u001b[39m\n\u001b[32m     28\u001b[39m r = np.linspace(\u001b[32m1\u001b[39m,\u001b[32m30\u001b[39m,num=\u001b[32m100\u001b[39m)\n\u001b[32m     29\u001b[39m plt.figure(figsize=(\u001b[32m8\u001b[39m, \u001b[32m6\u001b[39m))\n\u001b[32m---> \u001b[39m\u001b[32m30\u001b[39m plt.plot(r[:-\u001b[32m1\u001b[39m], \u001b[43mspherical_sidm_profile\u001b[49m\u001b[43m.\u001b[49m\u001b[43mV\u001b[49m\u001b[43m(\u001b[49m\u001b[43mr\u001b[49m\u001b[43m)\u001b[49m, label=\u001b[33m'\u001b[39m\u001b[33mSpherical SIDM\u001b[39m\u001b[33m'\u001b[39m, alpha=\u001b[32m0.6\u001b[39m, ls=\u001b[33m'\u001b[39m\u001b[33m-\u001b[39m\u001b[33m'\u001b[39m, lw=\u001b[32m2\u001b[39m)\n\u001b[32m     31\u001b[39m plt.plot(r[:-\u001b[32m1\u001b[39m], nonspherical_sidm_profile.V(r), label=\u001b[33m'\u001b[39m\u001b[33mNonspherical SIDM\u001b[39m\u001b[33m'\u001b[39m, alpha=\u001b[32m0.6\u001b[39m, ls=\u001b[33m'\u001b[39m\u001b[33m--\u001b[39m\u001b[33m'\u001b[39m, lw=\u001b[32m2\u001b[39m)\n\u001b[32m     32\u001b[39m plt.plot(r[:-\u001b[32m1\u001b[39m], nonspherical_sidm_profile_nc.V(r), label=\u001b[33m'\u001b[39m\u001b[33mNonspherical SIDM (nc)\u001b[39m\u001b[33m'\u001b[39m, alpha=\u001b[32m0.6\u001b[39m, ls=\u001b[33m'\u001b[39m\u001b[33m:\u001b[39m\u001b[33m'\u001b[39m, lw=\u001b[32m2\u001b[39m)\n",
      "\u001b[36mFile \u001b[39m\u001b[32m~/Desktop/github-projects/nonspherical-sidm-jeans-model/src/sidmhalo/classes.py:481\u001b[39m, in \u001b[36mprofile.V\u001b[39m\u001b[34m(self, r)\u001b[39m\n\u001b[32m    480\u001b[39m \u001b[38;5;28;01mdef\u001b[39;00m\u001b[38;5;250m \u001b[39m\u001b[34mV\u001b[39m(\u001b[38;5;28mself\u001b[39m,r):\n\u001b[32m--> \u001b[39m\u001b[32m481\u001b[39m     \u001b[38;5;28;01mreturn\u001b[39;00m np.sqrt(\u001b[38;5;28;43mself\u001b[39;49m\u001b[43m.\u001b[49m\u001b[43mVsq\u001b[49m\u001b[43m(\u001b[49m\u001b[43mr\u001b[49m\u001b[43m)\u001b[49m)\n",
      "\u001b[36mFile \u001b[39m\u001b[32m~/Desktop/github-projects/nonspherical-sidm-jeans-model/src/sidmhalo/classes.py:478\u001b[39m, in \u001b[36mprofile.Vsq\u001b[39m\u001b[34m(self, r)\u001b[39m\n\u001b[32m    477\u001b[39m \u001b[38;5;28;01mdef\u001b[39;00m\u001b[38;5;250m \u001b[39m\u001b[34mVsq\u001b[39m(\u001b[38;5;28mself\u001b[39m,r):\n\u001b[32m--> \u001b[39m\u001b[32m478\u001b[39m     \u001b[38;5;28;01mreturn\u001b[39;00m \u001b[38;5;28mself\u001b[39m.Vsq_baryon(r) + \u001b[38;5;28;43mself\u001b[39;49m\u001b[43m.\u001b[49m\u001b[43mVsq_dm\u001b[49m\u001b[43m(\u001b[49m\u001b[43mr\u001b[49m\u001b[43m)\u001b[49m\n",
      "\u001b[36mFile \u001b[39m\u001b[32m~/Desktop/github-projects/nonspherical-sidm-jeans-model/src/sidmhalo/classes.py:457\u001b[39m, in \u001b[36mprofile.Vsq_dm\u001b[39m\u001b[34m(self, r, Lmax, **kwargs)\u001b[39m\n\u001b[32m    455\u001b[39m \u001b[38;5;66;03m# Calculate LM mode contribution\u001b[39;00m\n\u001b[32m    456\u001b[39m Vsq_old = np.array(Vsq_tot)\n\u001b[32m--> \u001b[39m\u001b[32m457\u001b[39m Vsq_tot += \u001b[43mrotcurve\u001b[49m\u001b[43m.\u001b[49m\u001b[43mVsq_LM\u001b[49m\u001b[43m(\u001b[49m\u001b[43mrho_LM\u001b[49m\u001b[43m,\u001b[49m\u001b[43mr\u001b[49m\u001b[43m,\u001b[49m\u001b[43mL\u001b[49m\u001b[43m)\u001b[49m * Z(L,\u001b[32m0\u001b[39m,theta,\u001b[32m0\u001b[39m)\n\u001b[32m    459\u001b[39m \u001b[38;5;28;01mif\u001b[39;00m np.allclose(Vsq_tot, Vsq_old, rtol=\u001b[32m1e-3\u001b[39m, atol=\u001b[32m1e-3\u001b[39m):\n\u001b[32m    460\u001b[39m     \u001b[38;5;28;01mbreak\u001b[39;00m\n",
      "\u001b[36mFile \u001b[39m\u001b[32m~/Desktop/github-projects/nonspherical-sidm-jeans-model/src/sidmhalo/rotcurve.py:100\u001b[39m, in \u001b[36mVsq_LM\u001b[39m\u001b[34m(rho_LM, r, L, M)\u001b[39m\n\u001b[32m     97\u001b[39m solution = solve_ivp(integrand,[rmin,rmax],[\u001b[32m0\u001b[39m],rtol=\u001b[32m1e-6\u001b[39m,atol=\u001b[32m1e-6\u001b[39m,t_eval=r_eval)\n\u001b[32m     98\u001b[39m G_vals = solution.y[\u001b[32m0\u001b[39m]\n\u001b[32m--> \u001b[39m\u001b[32m100\u001b[39m Vsq_out[r_arr > \u001b[32m0\u001b[39m] += \u001b[43mprefactor\u001b[49m\u001b[43m \u001b[49m\u001b[43m*\u001b[49m\u001b[43m \u001b[49m\u001b[43m(\u001b[49m\u001b[43mL\u001b[49m\u001b[43m+\u001b[49m\u001b[32;43m1\u001b[39;49m\u001b[43m)\u001b[49m\u001b[43m \u001b[49m\u001b[43m/\u001b[49m\u001b[43m \u001b[49m\u001b[43mr_eval\u001b[49m\u001b[43m*\u001b[49m\u001b[43m*\u001b[49m\u001b[43m(\u001b[49m\u001b[43mL\u001b[49m\u001b[43m+\u001b[49m\u001b[32;43m1\u001b[39;49m\u001b[43m)\u001b[49m\u001b[43m \u001b[49m\u001b[43m*\u001b[49m\u001b[43m \u001b[49m\u001b[43mG_vals\u001b[49m\n\u001b[32m    102\u001b[39m \u001b[38;5;66;03m# Second term: only needed if L > 0\u001b[39;00m\n\u001b[32m    103\u001b[39m \u001b[38;5;66;03m# H(r) = int_r^inf x^(1-L) rho_LM(x) = - F(r) + H0\u001b[39;00m\n\u001b[32m    104\u001b[39m \u001b[38;5;66;03m# where F(r) = int_rmin^r x^(1-L) rho_LM(x)\u001b[39;00m\n\u001b[32m    105\u001b[39m \u001b[38;5;66;03m# and H0 = int_rmin^inf x^(1-L) rho_LM(x)\u001b[39;00m\n\u001b[32m    106\u001b[39m \u001b[38;5;28;01mif\u001b[39;00m L > \u001b[32m0\u001b[39m:\n",
      "\u001b[31mValueError\u001b[39m: operands could not be broadcast together with shapes (100,) (99,) "
     ]
    },
    {
     "data": {
      "text/plain": [
       "<Figure size 800x600 with 0 Axes>"
      ]
     },
     "metadata": {},
     "output_type": "display_data"
    }
   ],
   "source": [
    "# 1D density profile \n",
    "# r = np.logspace(-1,3, num=1_000)\n",
    "# plt.figure(figsize=(8, 6))\n",
    "# plt.loglog(r, spherical_sidm_profile.rho_sph_avg(r), label='Spherical SIDM', alpha=0.6, ls='-', lw=2)\n",
    "# plt.loglog(r, nonspherical_sidm_profile.rho_sph_avg(r), label='Nonspherical SIDM', alpha=0.6, ls='--', lw=2)\n",
    "# plt.loglog(r, nonspherical_sidm_profile_nc.rho_sph_avg(r), label='Nonspherical SIDM (nc)', alpha=0.6, ls=':', lw=2)\n",
    "# plt.xlabel('Radius (kpc)')\n",
    "# plt.ylabel('Density (Msun/kpc^3)')\n",
    "# plt.title('1D Density Profiles')\n",
    "# plt.legend()\n",
    "# plt.grid()\n",
    "# plt.show()\n",
    "# plt.clf()\n",
    "# Shape profiles\n",
    "# r = np.linspace(1,100, num=100)\n",
    "# plt.figure(figsize=(8, 6))\n",
    "# plt.plot(r, spherical_sidm_profile.q(r), label='Spherical SIDM', alpha=0.6, ls='-', lw=2)\n",
    "# plt.plot(r, nonspherical_sidm_profile.q(r), label='Nonspherical SIDM', alpha=0.6, ls='--', lw=2)\n",
    "# plt.plot(r, nonspherical_sidm_profile_nc.q(r), label='Nonspherical SIDM (nc)', alpha=0.6, ls=':', lw=2)\n",
    "# plt.xlabel('Radius (kpc)')\n",
    "# plt.ylabel('Axis Ratio (q)')\n",
    "# plt.title('Shape Profiles')\n",
    "# plt.legend()\n",
    "# plt.grid()\n",
    "# plt.show()\n",
    "# plt.clf()\n",
    "# Rotation curves\n",
    "r = np.linspace(1,30,num=100)\n",
    "plt.figure(figsize=(8, 6))\n",
    "plt.plot(r[:-1], spherical_sidm_profile.V(r), label='Spherical SIDM', alpha=0.6, ls='-', lw=2)\n",
    "plt.plot(r[:-1], nonspherical_sidm_profile.V(r), label='Nonspherical SIDM', alpha=0.6, ls='--', lw=2)\n",
    "plt.plot(r[:-1], nonspherical_sidm_profile_nc.V(r), label='Nonspherical SIDM (nc)', alpha=0.6, ls=':', lw=2)\n",
    "plt.xlabel('Radius (kpc)')\n",
    "plt.ylabel('Rotation Velocity (km/s)')\n",
    "plt.title('Rotation Curves')\n",
    "plt.legend()\n",
    "plt.grid()\n",
    "plt.show()\n",
    "plt.clf()"
   ]
  },
  {
   "cell_type": "code",
   "execution_count": 11,
   "metadata": {},
   "outputs": [
    {
     "name": "stderr",
     "output_type": "stream",
     "text": [
      "/home/asorlik/Desktop/github-projects/nonspherical-sidm-jeans-model/src/sidmhalo/classes.py:319: RuntimeWarning: divide by zero encountered in log\n",
      "  y = np.log(np.abs(rho_LM_list[sel]))\n"
     ]
    },
    {
     "data": {
      "text/plain": [
       "np.float32(118.171326)"
      ]
     },
     "execution_count": 11,
     "metadata": {},
     "output_type": "execute_result"
    }
   ],
   "source": [
    "spherical_sidm_profile.V(10)"
   ]
  },
  {
   "cell_type": "code",
   "execution_count": null,
   "metadata": {},
   "outputs": [],
   "source": []
  }
 ],
 "metadata": {
  "kernelspec": {
   "display_name": "archpy",
   "language": "python",
   "name": "python3"
  },
  "language_info": {
   "codemirror_mode": {
    "name": "ipython",
    "version": 3
   },
   "file_extension": ".py",
   "mimetype": "text/x-python",
   "name": "python",
   "nbconvert_exporter": "python",
   "pygments_lexer": "ipython3",
   "version": "3.13.7"
  }
 },
 "nbformat": 4,
 "nbformat_minor": 2
}
