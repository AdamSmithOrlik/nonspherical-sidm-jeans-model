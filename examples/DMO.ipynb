{
 "cells": [
  {
   "cell_type": "markdown",
   "metadata": {},
   "source": [
    "# Import"
   ]
  },
  {
   "cell_type": "code",
   "execution_count": 2,
   "metadata": {},
   "outputs": [],
   "source": [
    "# importing the sidmhalo package\n",
    "import sidmhalo\n",
    "\n",
    "# tools for plotting\n",
    "import matplotlib.pyplot as plt\n",
    "import numpy as np"
   ]
  },
  {
   "cell_type": "markdown",
   "metadata": {},
   "source": [
    "# CDM-Only Halos"
   ]
  },
  {
   "cell_type": "markdown",
   "metadata": {},
   "source": [
    "The sidmhalo package generates a CDM for the spherical or nonspherical cases. Below are examples of how to generate (i) a spherical CDM halo, and (ii) a nonspherical CDM halo with constant halo shape and (iii) a nonspherical CDM halo with radially-dependent shape."
   ]
  },
  {
   "cell_type": "code",
   "execution_count": 9,
   "metadata": {},
   "outputs": [
    {
     "name": "stdout",
     "output_type": "stream",
     "text": [
      "Spherical CDM profile generated successfully.\n",
      "Nonspherical CDM profile generated successfully.\n",
      "Nonspherical CDM profile with non-constant axis ratio generated successfully.\n"
     ]
    }
   ],
   "source": [
    "M200 = 1e12 # virial mass, Msun\n",
    "R200 = 200 # virial radius, kpc\n",
    "c = 10 # concentration, dimensionless\n",
    "q_sph = 1 # spherical axis ratio, dimensionless\n",
    "Phi_b = None # baryon potential, Msun/kpc^2\n",
    "\n",
    "spherical_cdm_profile = sidmhalo.gen.cdm(M200, c, q0=q_sph, Phi_b=Phi_b)\n",
    "\n",
    "if spherical_cdm_profile:\n",
    "    print(\"Spherical CDM profile generated successfully.\")\n",
    "else:\n",
    "    print(\"Failed to generate spherical CDM profile.\")\n",
    "\n",
    "q_nsph = 0.8\n",
    "\n",
    "nonspherical_cdm_profile = sidmhalo.gen.cdm(M200, c, q0=q_nsph, Phi_b=Phi_b)\n",
    "\n",
    "if nonspherical_cdm_profile:\n",
    "    print(\"Nonspherical CDM profile generated successfully.\")\n",
    "else:\n",
    "    print(\"Failed to generate nonspherical CDM profile.\")\n",
    "\n",
    "alpha = 0.3\n",
    "q_func = lambda r: q_nsph * (r / R200)**alpha\n",
    "\n",
    "nonspherical_cdm_profile_nc = sidmhalo.gen.cdm(M200, c, q=q_func, Phi_b=Phi_b)\n",
    "\n",
    "if nonspherical_cdm_profile_nc:\n",
    "    print(\"Nonspherical CDM profile with non-constant axis ratio generated successfully.\")\n",
    "else:\n",
    "    print(\"Failed to generate nonspherical CDM profile with non-constant axis ratio.\")\n"
   ]
  },
  {
   "cell_type": "markdown",
   "metadata": {},
   "source": [
    "Plotting the results for CDM-only halos"
   ]
  },
  {
   "cell_type": "code",
   "execution_count": null,
   "metadata": {},
   "outputs": [],
   "source": [
    "# 1D density profile \n",
    "r = np.logspace(-1,3, num=1_000)\n",
    "\n",
    "cdm\n",
    "\n",
    "# Shape profiles \n",
    "\n",
    "# Rotation curves "
   ]
  }
 ],
 "metadata": {
  "kernelspec": {
   "display_name": "physenv",
   "language": "python",
   "name": "python3"
  },
  "language_info": {
   "codemirror_mode": {
    "name": "ipython",
    "version": 3
   },
   "file_extension": ".py",
   "mimetype": "text/x-python",
   "name": "python",
   "nbconvert_exporter": "python",
   "pygments_lexer": "ipython3",
   "version": "3.12.5"
  }
 },
 "nbformat": 4,
 "nbformat_minor": 2
}
